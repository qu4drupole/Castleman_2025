{
 "cells": [
  {
   "cell_type": "markdown",
   "id": "458f437c-42c1-4f85-9f33-31ab67d62e81",
   "metadata": {},
   "source": [
    "## Running image preprocessing (qptiff-split.ipynb on the second cohort"
   ]
  },
  {
   "cell_type": "code",
   "execution_count": 1,
   "id": "9e351eb5-b3ae-456f-9bb0-5687c82ef43a",
   "metadata": {},
   "outputs": [],
   "source": [
    "import tifffile as tff\n",
    "import xml.etree.ElementTree as ET\n",
    "import matplotlib.pyplot as plt\n",
    "import numpy as np\n",
    "from cv2 import imwrite\n",
    "from PIL import Image\n",
    "import pickle as pk"
   ]
  },
  {
   "cell_type": "code",
   "execution_count": 2,
   "id": "3d7ab5f7",
   "metadata": {},
   "outputs": [],
   "source": [
    "# get channel names\n",
    "raw_ome = '../Data/20220509_Castleman_LN_MCD_1.qptiff'\n",
    "tifim = tff.TiffFile(raw_ome)\n",
    "\n",
    "markers=[]\n",
    "for p in tifim.series[0].pages:\n",
    "    tif_xml = p.tags['ImageDescription'].value\n",
    "    tif_meta = ET.XML(tif_xml)\n",
    "    marker = tif_meta.find(\"Biomarker\").text\n",
    "    markers.append(marker)"
   ]
  },
  {
   "cell_type": "code",
   "execution_count": 4,
   "id": "b7a99d9c",
   "metadata": {},
   "outputs": [
    {
     "name": "stdout",
     "output_type": "stream",
     "text": [
      "Done\n"
     ]
    }
   ],
   "source": [
    "with open(r'../Data/CellSeg/channelNames_cohort2.txt', 'w') as fp:\n",
    "    for item in markers:\n",
    "        # write each item on a new line\n",
    "        fp.write(\"%s\\n\" % item)\n",
    "    print('Done')"
   ]
  },
  {
   "cell_type": "markdown",
   "id": "526a6ed0-4438-467e-8a4d-75c0d3f28383",
   "metadata": {},
   "source": [
    "## Making smaller set of images to test CellSeg"
   ]
  },
  {
   "cell_type": "markdown",
   "id": "9c46e8a5-e800-41da-a3d3-73acad931f9a",
   "metadata": {},
   "source": [
    "### Splitting MCD1 images\n",
    "4 regions, 1 row"
   ]
  },
  {
   "cell_type": "code",
   "execution_count": 2,
   "id": "ff30baf4-2829-4ecc-8051-058c373eda26",
   "metadata": {},
   "outputs": [],
   "source": [
    "raw_ome = '../Data/20220509_Castleman_LN_MCD_1.qptiff'\n",
    "tifim = tff.TiffFile(raw_ome)\n",
    "nregion = 4"
   ]
  },
  {
   "cell_type": "code",
   "execution_count": 3,
   "id": "3aecb11c-eaf4-4380-9632-ad0c9ea9ed1d",
   "metadata": {},
   "outputs": [
    {
     "data": {
      "text/plain": [
       "10032.0"
      ]
     },
     "execution_count": 3,
     "metadata": {},
     "output_type": "execute_result"
    }
   ],
   "source": [
    "tifim.pages[0].shape[1]/4"
   ]
  },
  {
   "cell_type": "code",
   "execution_count": 6,
   "id": "fb7ccc35-4a05-4018-bf8d-abab919303c5",
   "metadata": {
    "collapsed": true,
    "jupyter": {
     "outputs_hidden": true,
     "source_hidden": true
    },
    "tags": []
   },
   "outputs": [
    {
     "name": "stdout",
     "output_type": "stream",
     "text": [
      "DAPI\n",
      "IRF4\n",
      "CLEC9A\n",
      "IRF8\n",
      "TCF4\n",
      "CD123\n",
      "BCL-6\n",
      "FOXP3\n",
      "Ki67\n",
      "CD25\n",
      "CD40\n",
      "CD10\n",
      "CD11c\n",
      "PAX-5\n",
      "PD-1\n",
      "CD1c\n",
      "BCL-2\n",
      "CD134\n",
      "CD68\n",
      "CD69\n",
      "CD11b\n",
      "ICOS\n",
      "CD163\n",
      "MPO\n",
      "CD30\n",
      "CD5\n",
      "Podoplanin\n",
      "HLA-DR\n",
      "CD20\n",
      "CD8\n",
      "CD138\n",
      "CD23\n",
      "Fascin\n",
      "CD45\n",
      "CD45RA\n",
      "Mac2Gal3\n",
      "CD4\n",
      "Granzyme B\n",
      "CD21\n",
      "CD3e\n",
      "CD15\n",
      "CD34\n",
      "CD31\n",
      "Vimentin\n"
     ]
    }
   ],
   "source": [
    "# individual images\n",
    "for p in tifim.series[0].pages:\n",
    "    tif_xml = p.tags['ImageDescription'].value\n",
    "    tif_meta = ET.XML(tif_xml)\n",
    "    marker = tif_meta.find(\"Biomarker\").text\n",
    "    print(marker)\n",
    "    p_im = p.asarray()\n",
    "    out = p_im[ 0:500 , 0:500 ]\n",
    "    imwrite('../Data/R1/region1/small/{}.tif'.format(marker), out)"
   ]
  },
  {
   "cell_type": "code",
   "execution_count": 5,
   "id": "80b83c37-b554-4eb4-81bb-5acd0c5f4fdd",
   "metadata": {
    "jupyter": {
     "source_hidden": true
    },
    "tags": []
   },
   "outputs": [],
   "source": [
    "# stacked images\n",
    "arrays = []\n",
    "for p in tifim.series[0].pages:\n",
    "    tif_xml = p.tags['ImageDescription'].value\n",
    "    tif_meta = ET.XML(tif_xml)\n",
    "    marker = tif_meta.find(\"Biomarker\").text\n",
    "    # markers.append(marker)\n",
    "    p_im = p.asarray()\n",
    "    out = p_im[ 0:500 , 0:500 ]\n",
    "    arrays.append(out)"
   ]
  },
  {
   "cell_type": "code",
   "execution_count": 7,
   "id": "77e9bd42-51a6-4021-9a55-42f3be32b984",
   "metadata": {
    "jupyter": {
     "source_hidden": true
    },
    "tags": []
   },
   "outputs": [
    {
     "data": {
      "text/plain": [
       "(500, 500, 44)"
      ]
     },
     "execution_count": 7,
     "metadata": {},
     "output_type": "execute_result"
    }
   ],
   "source": [
    "out = np.stack(arrays, axis=2)\n",
    "out.shape"
   ]
  },
  {
   "cell_type": "code",
   "execution_count": 8,
   "id": "9f92a2d4-111a-4c99-889e-35406876a65f",
   "metadata": {
    "jupyter": {
     "source_hidden": true
    },
    "tags": []
   },
   "outputs": [],
   "source": [
    "with tff.TiffWriter('../Data/R1/region1/small-stack/all-stacked.tif') as tif:\n",
    "    tif.write(out)"
   ]
  },
  {
   "cell_type": "code",
   "execution_count": 6,
   "id": "8d1f1a39-5dcc-43fb-839b-b6067a4a97c9",
   "metadata": {
    "tags": []
   },
   "outputs": [
    {
     "name": "stdout",
     "output_type": "stream",
     "text": [
      "(44, 1, 9504, 10031)\n",
      "(44, 1, 9504, 10031)\n",
      "(44, 1, 9504, 10031)\n",
      "(44, 1, 9504, 10031)\n"
     ]
    }
   ],
   "source": [
    "# Making regional test images stacked with all markers\n",
    "\n",
    "for i_region in range(nregion):\n",
    "    arrays = []\n",
    "    for p in tifim.series[0].pages:\n",
    "        tif_xml = p.tags['ImageDescription'].value\n",
    "        tif_meta = ET.XML(tif_xml)\n",
    "        # print(tif_meta.find(\"Biomarker\").text)\n",
    "        # marker = tif_meta.find(\"Biomarker\").text\n",
    "        # markers.append(marker)\n",
    "        p_im = p.asarray()\n",
    "        out = p_im[ : , (10032*i_region):((10032*i_region + 10032)-1)]\n",
    "        # out = p_im[2000:3000,2000:3000] # cropping image down for testing\n",
    "        arrays.append(out)\n",
    "    out = np.stack(arrays, axis=0)\n",
    "    out = np.expand_dims(out, axis=1)\n",
    "    print(out.shape)\n",
    "    with tff.TiffWriter('../Data/CellSeg/input/MCD1_regions/MCD1_reg{}_input.tif'.format(i_region+1)) as tif:\n",
    "        tif.write(out)"
   ]
  },
  {
   "cell_type": "markdown",
   "id": "a4d22965-e090-4d42-ad74-b6618f906fed",
   "metadata": {},
   "source": [
    "### Splitting MCD3 images\n",
    "\n",
    "3 regions, 1 row"
   ]
  },
  {
   "cell_type": "code",
   "execution_count": 11,
   "id": "7e011280-102d-45ef-8953-79c5ae10dec1",
   "metadata": {},
   "outputs": [],
   "source": [
    "raw_ome = '../Data/20220513_Castleman_LN_MCD3.qptiff'\n",
    "tifim = tff.TiffFile(raw_ome)\n",
    "nregion = 3"
   ]
  },
  {
   "cell_type": "code",
   "execution_count": 8,
   "id": "c23bcfc9-5cf5-4afc-91af-6ebc3746c07b",
   "metadata": {},
   "outputs": [
    {
     "data": {
      "text/plain": [
       "10026.666666666666"
      ]
     },
     "execution_count": 8,
     "metadata": {},
     "output_type": "execute_result"
    }
   ],
   "source": [
    "tifim.pages[0].shape[1]/3"
   ]
  },
  {
   "cell_type": "code",
   "execution_count": 12,
   "id": "45c06b1e-833c-444a-8b12-96b9645b7f18",
   "metadata": {},
   "outputs": [
    {
     "name": "stdout",
     "output_type": "stream",
     "text": [
      "(44, 1, 9504, 10025)\n",
      "(44, 1, 9504, 10025)\n",
      "(44, 1, 9504, 10025)\n"
     ]
    }
   ],
   "source": [
    "for i_region in range(nregion):\n",
    "    arrays = []\n",
    "    for p in tifim.series[0].pages:\n",
    "        tif_xml = p.tags['ImageDescription'].value\n",
    "        tif_meta = ET.XML(tif_xml)\n",
    "        p_im = p.asarray()\n",
    "        out = p_im[ : , (10026*i_region):((10026*i_region + 10026)-1)]\n",
    "        arrays.append(out)\n",
    "    out = np.stack(arrays, axis=0)\n",
    "    out = np.expand_dims(out, axis=1)\n",
    "    print(out.shape)\n",
    "    with tff.TiffWriter('../Data/CellSeg/input/MCD3_regions/MCD3_reg{}_input.tif'.format(i_region+1)) as tif:\n",
    "        tif.write(out)"
   ]
  },
  {
   "cell_type": "markdown",
   "id": "323325d8-da3f-46a9-af38-1b7182335dd7",
   "metadata": {},
   "source": [
    "### Splitting HVCD1 images\n",
    "\n",
    "4 regions, 1 row"
   ]
  },
  {
   "cell_type": "code",
   "execution_count": 13,
   "id": "ae0bd41e-0791-4ee5-aafc-23aa93586b34",
   "metadata": {},
   "outputs": [],
   "source": [
    "raw_ome = '../Data/20220515_Castleman_LN_HVCD1.qptiff'\n",
    "tifim = tff.TiffFile(raw_ome)\n",
    "nregion = 4"
   ]
  },
  {
   "cell_type": "code",
   "execution_count": 10,
   "id": "a87c32af-de7c-4577-930b-57eee8b4ca35",
   "metadata": {},
   "outputs": [
    {
     "data": {
      "text/plain": [
       "10032.0"
      ]
     },
     "execution_count": 10,
     "metadata": {},
     "output_type": "execute_result"
    }
   ],
   "source": [
    "tifim.pages[0].shape[1]/4"
   ]
  },
  {
   "cell_type": "code",
   "execution_count": 14,
   "id": "2ea055b9-73b2-4c1d-bcfb-f6b0ba327fda",
   "metadata": {},
   "outputs": [
    {
     "name": "stdout",
     "output_type": "stream",
     "text": [
      "(44, 1, 9504, 10031)\n",
      "(44, 1, 9504, 10031)\n",
      "(44, 1, 9504, 10031)\n",
      "(44, 1, 9504, 10031)\n"
     ]
    }
   ],
   "source": [
    "# for CellSeg\n",
    "for i_region in range(nregion):\n",
    "    arrays = []\n",
    "    for p in tifim.series[0].pages:\n",
    "        tif_xml = p.tags['ImageDescription'].value\n",
    "        tif_meta = ET.XML(tif_xml)\n",
    "        p_im = p.asarray()\n",
    "        out = p_im[ : , (10032*i_region):((10032*i_region + 10032)-1)]\n",
    "        arrays.append(out)\n",
    "    out = np.stack(arrays, axis=0)\n",
    "    out = np.expand_dims(out, axis=1)\n",
    "    print(out.shape)\n",
    "    with tff.TiffWriter('../Data/CellSeg/input/HVCD1_regions/HVCD1_reg{}_input.tif'.format(i_region+1)) as tif:\n",
    "        tif.write(out)"
   ]
  },
  {
   "cell_type": "code",
   "execution_count": null,
   "id": "e6565d65-9859-4469-8333-0f50924e6cfa",
   "metadata": {},
   "outputs": [],
   "source": []
  }
 ],
 "metadata": {
  "kernelspec": {
   "display_name": "Python [conda env:imageAnalysis]",
   "language": "python",
   "name": "conda-env-imageAnalysis-py"
  },
  "language_info": {
   "codemirror_mode": {
    "name": "ipython",
    "version": 3
   },
   "file_extension": ".py",
   "mimetype": "text/x-python",
   "name": "python",
   "nbconvert_exporter": "python",
   "pygments_lexer": "ipython3",
   "version": "3.10.5"
  }
 },
 "nbformat": 4,
 "nbformat_minor": 5
}
