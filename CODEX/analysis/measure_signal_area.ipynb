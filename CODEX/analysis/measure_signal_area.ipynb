{
 "cells": [
  {
   "cell_type": "markdown",
   "id": "6ebe6d60-b34b-4daa-8207-65489bc49c85",
   "metadata": {},
   "source": [
    "# Measure the signal area of CD21, CD23, CD35, D2-40\n",
    "\n",
    "Following the outline of \"analysis_notebook\"\n",
    "\n",
    "Already did CD21\n"
   ]
  },
  {
   "cell_type": "code",
   "execution_count": 1,
   "id": "fdd7f1a4-10d6-4a82-bdf7-cd25d0a295f9",
   "metadata": {},
   "outputs": [],
   "source": [
    "import os\n",
    "import re\n",
    "import tifffile as tff\n",
    "import numpy as np\n",
    "import anndata as ad\n",
    "import pandas as pd\n",
    "import matplotlib.pyplot as plt\n",
    "from matplotlib.pyplot import figure\n",
    "from skimage.morphology import disk\n",
    "from skimage.filters import threshold_otsu, rank, threshold_local\n",
    "import hdbscan\n",
    "from sklearn.preprocessing import StandardScaler\n",
    "from scipy.spatial import ConvexHull, convex_hull_plot_2d\n",
    "from skimage.draw import polygon2mask\n",
    "import tqdm\n",
    "from skimage.filters.rank import entropy\n",
    "from skimage.exposure import histogram\n",
    "from PIL import Image, ImageStat\n",
    "# import umap\n",
    "# import leidenalg as la\n",
    "# import igraph as ig\n",
    "# from sklearn.manifold import MDS\n",
    "# from sklearn.cluster import DBSCAN\n",
    "# from sklearn.neighbors import radius_neighbors_graph"
   ]
  },
  {
   "cell_type": "code",
   "execution_count": 2,
   "id": "42dd4ea4-2c22-4c51-a050-169053aebde2",
   "metadata": {},
   "outputs": [],
   "source": [
    "root_dir = \"../../../outs/neighborhood_analysis\"\n",
    "dat_dir = [d for d in os.listdir(root_dir) if 'reg' in d and bool(re.match(\"R|MCD|HVCD\",d))]"
   ]
  },
  {
   "cell_type": "code",
   "execution_count": 3,
   "id": "5c88313c-27c5-4146-a2f5-bca3fa7f29fd",
   "metadata": {},
   "outputs": [],
   "source": [
    "def concat_adata(pl):\n",
    "    keep_p = []\n",
    "    for p in pl:\n",
    "        if not os.path.isfile(os.path.join(root_dir,p,'all_tiles_failed.token')):\n",
    "            keep_p.append(p)\n",
    "    dat = list(map(lambda x: ad.read_h5ad(os.path.join(root_dir, x, 'gated_dat.h5ad')), keep_p))\n",
    "    # organize the markers consistently\n",
    "    markers = list(map(lambda x: x.var_names.tolist(), dat))\n",
    "    common_markers = set.intersection(*list(map(set,markers)))\n",
    "    for a in dat:\n",
    "        markeri = list(map(lambda x: int(np.where(x == a.var_names)[0]), common_markers))\n",
    "        a = a[:,markeri]\n",
    "    adata = ad.concat(dat, label=\"region\", keys=keep_p, index_unique=\"_\")\n",
    "    return(adata)"
   ]
  },
  {
   "cell_type": "code",
   "execution_count": 4,
   "id": "29e6dd48-bd42-4fb2-aaaa-95471ae00977",
   "metadata": {},
   "outputs": [],
   "source": [
    "def get_image_data(n, marker):\n",
    "    img = tff.TiffFile(\"../../forQuPath/Data/\"+n+\"/input_codex.qptiff\")\n",
    "    if bool(re.match(\"R1|K1|K2\",n)):\n",
    "        channels = \"channelNames\"\n",
    "    elif bool(re.match(\"HVCD1|MCD1|MCD3\",n)):\n",
    "        channels = \"channelNames_cohort2\"\n",
    "    elif bool(re.match(\"HVCD2|MCD4|R2\",n)):\n",
    "        channels = \"channelNames_cohort3\"\n",
    "    elif bool(re.match(\"K3\",n)):\n",
    "        channels = \"channelNames_cohort4\"\n",
    "    m_list = pd.read_table(\"../../forQuPath/\"+channels+\".txt\", header=None)\n",
    "    try:\n",
    "        marker_i = np.where(m_list[0]==marker)[0]\n",
    "        dat = img.series[0].pages[int(marker_i)].asarray()\n",
    "        return dat\n",
    "    except TypeError:\n",
    "        return None\n"
   ]
  },
  {
   "cell_type": "code",
   "execution_count": 5,
   "id": "2bb00935-d23c-4f42-873c-8762d995b7d1",
   "metadata": {},
   "outputs": [],
   "source": [
    "adata = ad.read_h5ad('/mnt/isilon/cscb/Projects/codex/pillaiv/SCTC-VP-15/code/CD_analysis/aSMA_CD21_analysis/all_regions_dat.h5ad')"
   ]
  },
  {
   "cell_type": "code",
   "execution_count": 8,
   "id": "2a884eac-3b6d-4a55-bc1f-7b09da7439cb",
   "metadata": {
    "collapsed": true,
    "jupyter": {
     "outputs_hidden": true
    }
   },
   "outputs": [
    {
     "name": "stderr",
     "output_type": "stream",
     "text": [
      "  0%|          | 0/24 [00:00<?, ?it/s]/tmp/ipykernel_618521/89048385.py:14: DeprecationWarning: Conversion of an array with ndim > 0 to a scalar is deprecated, and will error in future. Ensure you extract a single element from your array before performing this operation. (Deprecated NumPy 1.25.)\n",
      "  dat = img.series[0].pages[int(marker_i)].asarray()\n"
     ]
    },
    {
     "name": "stdout",
     "output_type": "stream",
     "text": [
      "MCD1_reg1\n"
     ]
    },
    {
     "name": "stderr",
     "output_type": "stream",
     "text": [
      "/tmp/ipykernel_618521/89048385.py:14: DeprecationWarning: Conversion of an array with ndim > 0 to a scalar is deprecated, and will error in future. Ensure you extract a single element from your array before performing this operation. (Deprecated NumPy 1.25.)\n",
      "  dat = img.series[0].pages[int(marker_i)].asarray()\n",
      "/tmp/ipykernel_618521/89048385.py:14: DeprecationWarning: Conversion of an array with ndim > 0 to a scalar is deprecated, and will error in future. Ensure you extract a single element from your array before performing this operation. (Deprecated NumPy 1.25.)\n",
      "  dat = img.series[0].pages[int(marker_i)].asarray()\n",
      "/tmp/ipykernel_618521/89048385.py:14: DeprecationWarning: Conversion of an array with ndim > 0 to a scalar is deprecated, and will error in future. Ensure you extract a single element from your array before performing this operation. (Deprecated NumPy 1.25.)\n",
      "  dat = img.series[0].pages[int(marker_i)].asarray()\n",
      "  4%|▍         | 1/24 [00:02<01:08,  2.98s/it]/tmp/ipykernel_618521/89048385.py:14: DeprecationWarning: Conversion of an array with ndim > 0 to a scalar is deprecated, and will error in future. Ensure you extract a single element from your array before performing this operation. (Deprecated NumPy 1.25.)\n",
      "  dat = img.series[0].pages[int(marker_i)].asarray()\n"
     ]
    },
    {
     "name": "stdout",
     "output_type": "stream",
     "text": [
      "MCD3_reg2\n"
     ]
    },
    {
     "name": "stderr",
     "output_type": "stream",
     "text": [
      "/tmp/ipykernel_618521/89048385.py:14: DeprecationWarning: Conversion of an array with ndim > 0 to a scalar is deprecated, and will error in future. Ensure you extract a single element from your array before performing this operation. (Deprecated NumPy 1.25.)\n",
      "  dat = img.series[0].pages[int(marker_i)].asarray()\n",
      "/tmp/ipykernel_618521/89048385.py:14: DeprecationWarning: Conversion of an array with ndim > 0 to a scalar is deprecated, and will error in future. Ensure you extract a single element from your array before performing this operation. (Deprecated NumPy 1.25.)\n",
      "  dat = img.series[0].pages[int(marker_i)].asarray()\n",
      "/tmp/ipykernel_618521/89048385.py:14: DeprecationWarning: Conversion of an array with ndim > 0 to a scalar is deprecated, and will error in future. Ensure you extract a single element from your array before performing this operation. (Deprecated NumPy 1.25.)\n",
      "  dat = img.series[0].pages[int(marker_i)].asarray()\n",
      "  8%|▊         | 2/24 [00:05<01:04,  2.95s/it]/tmp/ipykernel_618521/89048385.py:14: DeprecationWarning: Conversion of an array with ndim > 0 to a scalar is deprecated, and will error in future. Ensure you extract a single element from your array before performing this operation. (Deprecated NumPy 1.25.)\n",
      "  dat = img.series[0].pages[int(marker_i)].asarray()\n"
     ]
    },
    {
     "name": "stdout",
     "output_type": "stream",
     "text": [
      "MCD1_reg3\n"
     ]
    },
    {
     "name": "stderr",
     "output_type": "stream",
     "text": [
      "/tmp/ipykernel_618521/89048385.py:14: DeprecationWarning: Conversion of an array with ndim > 0 to a scalar is deprecated, and will error in future. Ensure you extract a single element from your array before performing this operation. (Deprecated NumPy 1.25.)\n",
      "  dat = img.series[0].pages[int(marker_i)].asarray()\n",
      "/tmp/ipykernel_618521/89048385.py:14: DeprecationWarning: Conversion of an array with ndim > 0 to a scalar is deprecated, and will error in future. Ensure you extract a single element from your array before performing this operation. (Deprecated NumPy 1.25.)\n",
      "  dat = img.series[0].pages[int(marker_i)].asarray()\n",
      "/tmp/ipykernel_618521/89048385.py:14: DeprecationWarning: Conversion of an array with ndim > 0 to a scalar is deprecated, and will error in future. Ensure you extract a single element from your array before performing this operation. (Deprecated NumPy 1.25.)\n",
      "  dat = img.series[0].pages[int(marker_i)].asarray()\n",
      " 12%|█▎        | 3/24 [00:09<01:05,  3.12s/it]/tmp/ipykernel_618521/89048385.py:14: DeprecationWarning: Conversion of an array with ndim > 0 to a scalar is deprecated, and will error in future. Ensure you extract a single element from your array before performing this operation. (Deprecated NumPy 1.25.)\n",
      "  dat = img.series[0].pages[int(marker_i)].asarray()\n"
     ]
    },
    {
     "name": "stdout",
     "output_type": "stream",
     "text": [
      "HVCD2_reg1\n"
     ]
    },
    {
     "name": "stderr",
     "output_type": "stream",
     "text": [
      "/tmp/ipykernel_618521/89048385.py:14: DeprecationWarning: Conversion of an array with ndim > 0 to a scalar is deprecated, and will error in future. Ensure you extract a single element from your array before performing this operation. (Deprecated NumPy 1.25.)\n",
      "  dat = img.series[0].pages[int(marker_i)].asarray()\n",
      "/tmp/ipykernel_618521/89048385.py:14: DeprecationWarning: Conversion of an array with ndim > 0 to a scalar is deprecated, and will error in future. Ensure you extract a single element from your array before performing this operation. (Deprecated NumPy 1.25.)\n",
      "  dat = img.series[0].pages[int(marker_i)].asarray()\n",
      "/tmp/ipykernel_618521/89048385.py:14: DeprecationWarning: Conversion of an array with ndim > 0 to a scalar is deprecated, and will error in future. Ensure you extract a single element from your array before performing this operation. (Deprecated NumPy 1.25.)\n",
      "  dat = img.series[0].pages[int(marker_i)].asarray()\n",
      " 17%|█▋        | 4/24 [00:11<00:57,  2.86s/it]/tmp/ipykernel_618521/89048385.py:14: DeprecationWarning: Conversion of an array with ndim > 0 to a scalar is deprecated, and will error in future. Ensure you extract a single element from your array before performing this operation. (Deprecated NumPy 1.25.)\n",
      "  dat = img.series[0].pages[int(marker_i)].asarray()\n"
     ]
    },
    {
     "name": "stdout",
     "output_type": "stream",
     "text": [
      "R1_reg3\n"
     ]
    },
    {
     "name": "stderr",
     "output_type": "stream",
     "text": [
      "/tmp/ipykernel_618521/89048385.py:14: DeprecationWarning: Conversion of an array with ndim > 0 to a scalar is deprecated, and will error in future. Ensure you extract a single element from your array before performing this operation. (Deprecated NumPy 1.25.)\n",
      "  dat = img.series[0].pages[int(marker_i)].asarray()\n",
      "/tmp/ipykernel_618521/89048385.py:14: DeprecationWarning: Conversion of an array with ndim > 0 to a scalar is deprecated, and will error in future. Ensure you extract a single element from your array before performing this operation. (Deprecated NumPy 1.25.)\n",
      "  dat = img.series[0].pages[int(marker_i)].asarray()\n",
      " 21%|██        | 5/24 [00:13<00:47,  2.48s/it]/tmp/ipykernel_618521/89048385.py:14: DeprecationWarning: Conversion of an array with ndim > 0 to a scalar is deprecated, and will error in future. Ensure you extract a single element from your array before performing this operation. (Deprecated NumPy 1.25.)\n",
      "  dat = img.series[0].pages[int(marker_i)].asarray()\n"
     ]
    },
    {
     "name": "stdout",
     "output_type": "stream",
     "text": [
      "MCD4_reg3\n"
     ]
    },
    {
     "name": "stderr",
     "output_type": "stream",
     "text": [
      "/tmp/ipykernel_618521/89048385.py:14: DeprecationWarning: Conversion of an array with ndim > 0 to a scalar is deprecated, and will error in future. Ensure you extract a single element from your array before performing this operation. (Deprecated NumPy 1.25.)\n",
      "  dat = img.series[0].pages[int(marker_i)].asarray()\n",
      "/tmp/ipykernel_618521/89048385.py:14: DeprecationWarning: Conversion of an array with ndim > 0 to a scalar is deprecated, and will error in future. Ensure you extract a single element from your array before performing this operation. (Deprecated NumPy 1.25.)\n",
      "  dat = img.series[0].pages[int(marker_i)].asarray()\n",
      "/tmp/ipykernel_618521/89048385.py:14: DeprecationWarning: Conversion of an array with ndim > 0 to a scalar is deprecated, and will error in future. Ensure you extract a single element from your array before performing this operation. (Deprecated NumPy 1.25.)\n",
      "  dat = img.series[0].pages[int(marker_i)].asarray()\n",
      " 25%|██▌       | 6/24 [00:17<00:52,  2.92s/it]/tmp/ipykernel_618521/89048385.py:14: DeprecationWarning: Conversion of an array with ndim > 0 to a scalar is deprecated, and will error in future. Ensure you extract a single element from your array before performing this operation. (Deprecated NumPy 1.25.)\n",
      "  dat = img.series[0].pages[int(marker_i)].asarray()\n"
     ]
    },
    {
     "name": "stdout",
     "output_type": "stream",
     "text": [
      "R2_reg1\n"
     ]
    },
    {
     "name": "stderr",
     "output_type": "stream",
     "text": [
      "/tmp/ipykernel_618521/89048385.py:14: DeprecationWarning: Conversion of an array with ndim > 0 to a scalar is deprecated, and will error in future. Ensure you extract a single element from your array before performing this operation. (Deprecated NumPy 1.25.)\n",
      "  dat = img.series[0].pages[int(marker_i)].asarray()\n",
      "/tmp/ipykernel_618521/89048385.py:14: DeprecationWarning: Conversion of an array with ndim > 0 to a scalar is deprecated, and will error in future. Ensure you extract a single element from your array before performing this operation. (Deprecated NumPy 1.25.)\n",
      "  dat = img.series[0].pages[int(marker_i)].asarray()\n",
      "/tmp/ipykernel_618521/89048385.py:14: DeprecationWarning: Conversion of an array with ndim > 0 to a scalar is deprecated, and will error in future. Ensure you extract a single element from your array before performing this operation. (Deprecated NumPy 1.25.)\n",
      "  dat = img.series[0].pages[int(marker_i)].asarray()\n",
      " 29%|██▉       | 7/24 [00:23<01:05,  3.87s/it]/tmp/ipykernel_618521/89048385.py:14: DeprecationWarning: Conversion of an array with ndim > 0 to a scalar is deprecated, and will error in future. Ensure you extract a single element from your array before performing this operation. (Deprecated NumPy 1.25.)\n",
      "  dat = img.series[0].pages[int(marker_i)].asarray()\n"
     ]
    },
    {
     "name": "stdout",
     "output_type": "stream",
     "text": [
      "HVCD1_reg3\n"
     ]
    },
    {
     "name": "stderr",
     "output_type": "stream",
     "text": [
      "/tmp/ipykernel_618521/89048385.py:14: DeprecationWarning: Conversion of an array with ndim > 0 to a scalar is deprecated, and will error in future. Ensure you extract a single element from your array before performing this operation. (Deprecated NumPy 1.25.)\n",
      "  dat = img.series[0].pages[int(marker_i)].asarray()\n",
      "/tmp/ipykernel_618521/89048385.py:14: DeprecationWarning: Conversion of an array with ndim > 0 to a scalar is deprecated, and will error in future. Ensure you extract a single element from your array before performing this operation. (Deprecated NumPy 1.25.)\n",
      "  dat = img.series[0].pages[int(marker_i)].asarray()\n",
      "/tmp/ipykernel_618521/89048385.py:14: DeprecationWarning: Conversion of an array with ndim > 0 to a scalar is deprecated, and will error in future. Ensure you extract a single element from your array before performing this operation. (Deprecated NumPy 1.25.)\n",
      "  dat = img.series[0].pages[int(marker_i)].asarray()\n",
      " 33%|███▎      | 8/24 [00:26<00:59,  3.69s/it]/tmp/ipykernel_618521/89048385.py:14: DeprecationWarning: Conversion of an array with ndim > 0 to a scalar is deprecated, and will error in future. Ensure you extract a single element from your array before performing this operation. (Deprecated NumPy 1.25.)\n",
      "  dat = img.series[0].pages[int(marker_i)].asarray()\n"
     ]
    },
    {
     "name": "stdout",
     "output_type": "stream",
     "text": [
      "HVCD2_reg3\n"
     ]
    },
    {
     "name": "stderr",
     "output_type": "stream",
     "text": [
      "/tmp/ipykernel_618521/89048385.py:14: DeprecationWarning: Conversion of an array with ndim > 0 to a scalar is deprecated, and will error in future. Ensure you extract a single element from your array before performing this operation. (Deprecated NumPy 1.25.)\n",
      "  dat = img.series[0].pages[int(marker_i)].asarray()\n",
      "/tmp/ipykernel_618521/89048385.py:14: DeprecationWarning: Conversion of an array with ndim > 0 to a scalar is deprecated, and will error in future. Ensure you extract a single element from your array before performing this operation. (Deprecated NumPy 1.25.)\n",
      "  dat = img.series[0].pages[int(marker_i)].asarray()\n",
      "/tmp/ipykernel_618521/89048385.py:14: DeprecationWarning: Conversion of an array with ndim > 0 to a scalar is deprecated, and will error in future. Ensure you extract a single element from your array before performing this operation. (Deprecated NumPy 1.25.)\n",
      "  dat = img.series[0].pages[int(marker_i)].asarray()\n",
      " 38%|███▊      | 9/24 [00:28<00:49,  3.28s/it]/tmp/ipykernel_618521/89048385.py:14: DeprecationWarning: Conversion of an array with ndim > 0 to a scalar is deprecated, and will error in future. Ensure you extract a single element from your array before performing this operation. (Deprecated NumPy 1.25.)\n",
      "  dat = img.series[0].pages[int(marker_i)].asarray()\n"
     ]
    },
    {
     "name": "stdout",
     "output_type": "stream",
     "text": [
      "MCD3_reg1\n"
     ]
    },
    {
     "name": "stderr",
     "output_type": "stream",
     "text": [
      "/tmp/ipykernel_618521/89048385.py:14: DeprecationWarning: Conversion of an array with ndim > 0 to a scalar is deprecated, and will error in future. Ensure you extract a single element from your array before performing this operation. (Deprecated NumPy 1.25.)\n",
      "  dat = img.series[0].pages[int(marker_i)].asarray()\n",
      "/tmp/ipykernel_618521/89048385.py:14: DeprecationWarning: Conversion of an array with ndim > 0 to a scalar is deprecated, and will error in future. Ensure you extract a single element from your array before performing this operation. (Deprecated NumPy 1.25.)\n",
      "  dat = img.series[0].pages[int(marker_i)].asarray()\n",
      "/tmp/ipykernel_618521/89048385.py:14: DeprecationWarning: Conversion of an array with ndim > 0 to a scalar is deprecated, and will error in future. Ensure you extract a single element from your array before performing this operation. (Deprecated NumPy 1.25.)\n",
      "  dat = img.series[0].pages[int(marker_i)].asarray()\n",
      " 42%|████▏     | 10/24 [00:31<00:44,  3.18s/it]/tmp/ipykernel_618521/89048385.py:14: DeprecationWarning: Conversion of an array with ndim > 0 to a scalar is deprecated, and will error in future. Ensure you extract a single element from your array before performing this operation. (Deprecated NumPy 1.25.)\n",
      "  dat = img.series[0].pages[int(marker_i)].asarray()\n"
     ]
    },
    {
     "name": "stdout",
     "output_type": "stream",
     "text": [
      "HVCD1_reg1\n"
     ]
    },
    {
     "name": "stderr",
     "output_type": "stream",
     "text": [
      "/tmp/ipykernel_618521/89048385.py:14: DeprecationWarning: Conversion of an array with ndim > 0 to a scalar is deprecated, and will error in future. Ensure you extract a single element from your array before performing this operation. (Deprecated NumPy 1.25.)\n",
      "  dat = img.series[0].pages[int(marker_i)].asarray()\n",
      "/tmp/ipykernel_618521/89048385.py:14: DeprecationWarning: Conversion of an array with ndim > 0 to a scalar is deprecated, and will error in future. Ensure you extract a single element from your array before performing this operation. (Deprecated NumPy 1.25.)\n",
      "  dat = img.series[0].pages[int(marker_i)].asarray()\n",
      "/tmp/ipykernel_618521/89048385.py:14: DeprecationWarning: Conversion of an array with ndim > 0 to a scalar is deprecated, and will error in future. Ensure you extract a single element from your array before performing this operation. (Deprecated NumPy 1.25.)\n",
      "  dat = img.series[0].pages[int(marker_i)].asarray()\n",
      " 46%|████▌     | 11/24 [00:35<00:42,  3.25s/it]/tmp/ipykernel_618521/89048385.py:14: DeprecationWarning: Conversion of an array with ndim > 0 to a scalar is deprecated, and will error in future. Ensure you extract a single element from your array before performing this operation. (Deprecated NumPy 1.25.)\n",
      "  dat = img.series[0].pages[int(marker_i)].asarray()\n"
     ]
    },
    {
     "name": "stdout",
     "output_type": "stream",
     "text": [
      "MCD4_reg1\n"
     ]
    },
    {
     "name": "stderr",
     "output_type": "stream",
     "text": [
      "/tmp/ipykernel_618521/89048385.py:14: DeprecationWarning: Conversion of an array with ndim > 0 to a scalar is deprecated, and will error in future. Ensure you extract a single element from your array before performing this operation. (Deprecated NumPy 1.25.)\n",
      "  dat = img.series[0].pages[int(marker_i)].asarray()\n",
      "/tmp/ipykernel_618521/89048385.py:14: DeprecationWarning: Conversion of an array with ndim > 0 to a scalar is deprecated, and will error in future. Ensure you extract a single element from your array before performing this operation. (Deprecated NumPy 1.25.)\n",
      "  dat = img.series[0].pages[int(marker_i)].asarray()\n",
      "/tmp/ipykernel_618521/89048385.py:14: DeprecationWarning: Conversion of an array with ndim > 0 to a scalar is deprecated, and will error in future. Ensure you extract a single element from your array before performing this operation. (Deprecated NumPy 1.25.)\n",
      "  dat = img.series[0].pages[int(marker_i)].asarray()\n",
      " 50%|█████     | 12/24 [00:39<00:42,  3.53s/it]/tmp/ipykernel_618521/89048385.py:14: DeprecationWarning: Conversion of an array with ndim > 0 to a scalar is deprecated, and will error in future. Ensure you extract a single element from your array before performing this operation. (Deprecated NumPy 1.25.)\n",
      "  dat = img.series[0].pages[int(marker_i)].asarray()\n"
     ]
    },
    {
     "name": "stdout",
     "output_type": "stream",
     "text": [
      "MCD4_reg2\n"
     ]
    },
    {
     "name": "stderr",
     "output_type": "stream",
     "text": [
      "/tmp/ipykernel_618521/89048385.py:14: DeprecationWarning: Conversion of an array with ndim > 0 to a scalar is deprecated, and will error in future. Ensure you extract a single element from your array before performing this operation. (Deprecated NumPy 1.25.)\n",
      "  dat = img.series[0].pages[int(marker_i)].asarray()\n",
      "/tmp/ipykernel_618521/89048385.py:14: DeprecationWarning: Conversion of an array with ndim > 0 to a scalar is deprecated, and will error in future. Ensure you extract a single element from your array before performing this operation. (Deprecated NumPy 1.25.)\n",
      "  dat = img.series[0].pages[int(marker_i)].asarray()\n",
      "/tmp/ipykernel_618521/89048385.py:14: DeprecationWarning: Conversion of an array with ndim > 0 to a scalar is deprecated, and will error in future. Ensure you extract a single element from your array before performing this operation. (Deprecated NumPy 1.25.)\n",
      "  dat = img.series[0].pages[int(marker_i)].asarray()\n",
      " 54%|█████▍    | 13/24 [00:43<00:39,  3.60s/it]/tmp/ipykernel_618521/89048385.py:14: DeprecationWarning: Conversion of an array with ndim > 0 to a scalar is deprecated, and will error in future. Ensure you extract a single element from your array before performing this operation. (Deprecated NumPy 1.25.)\n",
      "  dat = img.series[0].pages[int(marker_i)].asarray()\n"
     ]
    },
    {
     "name": "stdout",
     "output_type": "stream",
     "text": [
      "R1_reg2\n"
     ]
    },
    {
     "name": "stderr",
     "output_type": "stream",
     "text": [
      "/tmp/ipykernel_618521/89048385.py:14: DeprecationWarning: Conversion of an array with ndim > 0 to a scalar is deprecated, and will error in future. Ensure you extract a single element from your array before performing this operation. (Deprecated NumPy 1.25.)\n",
      "  dat = img.series[0].pages[int(marker_i)].asarray()\n",
      "/tmp/ipykernel_618521/89048385.py:14: DeprecationWarning: Conversion of an array with ndim > 0 to a scalar is deprecated, and will error in future. Ensure you extract a single element from your array before performing this operation. (Deprecated NumPy 1.25.)\n",
      "  dat = img.series[0].pages[int(marker_i)].asarray()\n",
      " 58%|█████▊    | 14/24 [00:44<00:30,  3.05s/it]/tmp/ipykernel_618521/89048385.py:14: DeprecationWarning: Conversion of an array with ndim > 0 to a scalar is deprecated, and will error in future. Ensure you extract a single element from your array before performing this operation. (Deprecated NumPy 1.25.)\n",
      "  dat = img.series[0].pages[int(marker_i)].asarray()\n"
     ]
    },
    {
     "name": "stdout",
     "output_type": "stream",
     "text": [
      "MCD4_reg4\n"
     ]
    },
    {
     "name": "stderr",
     "output_type": "stream",
     "text": [
      "/tmp/ipykernel_618521/89048385.py:14: DeprecationWarning: Conversion of an array with ndim > 0 to a scalar is deprecated, and will error in future. Ensure you extract a single element from your array before performing this operation. (Deprecated NumPy 1.25.)\n",
      "  dat = img.series[0].pages[int(marker_i)].asarray()\n",
      "/tmp/ipykernel_618521/89048385.py:14: DeprecationWarning: Conversion of an array with ndim > 0 to a scalar is deprecated, and will error in future. Ensure you extract a single element from your array before performing this operation. (Deprecated NumPy 1.25.)\n",
      "  dat = img.series[0].pages[int(marker_i)].asarray()\n",
      "/tmp/ipykernel_618521/89048385.py:14: DeprecationWarning: Conversion of an array with ndim > 0 to a scalar is deprecated, and will error in future. Ensure you extract a single element from your array before performing this operation. (Deprecated NumPy 1.25.)\n",
      "  dat = img.series[0].pages[int(marker_i)].asarray()\n",
      " 62%|██████▎   | 15/24 [00:48<00:30,  3.35s/it]/tmp/ipykernel_618521/89048385.py:14: DeprecationWarning: Conversion of an array with ndim > 0 to a scalar is deprecated, and will error in future. Ensure you extract a single element from your array before performing this operation. (Deprecated NumPy 1.25.)\n",
      "  dat = img.series[0].pages[int(marker_i)].asarray()\n"
     ]
    },
    {
     "name": "stdout",
     "output_type": "stream",
     "text": [
      "HVCD2_reg2\n"
     ]
    },
    {
     "name": "stderr",
     "output_type": "stream",
     "text": [
      "/tmp/ipykernel_618521/89048385.py:14: DeprecationWarning: Conversion of an array with ndim > 0 to a scalar is deprecated, and will error in future. Ensure you extract a single element from your array before performing this operation. (Deprecated NumPy 1.25.)\n",
      "  dat = img.series[0].pages[int(marker_i)].asarray()\n",
      "/tmp/ipykernel_618521/89048385.py:14: DeprecationWarning: Conversion of an array with ndim > 0 to a scalar is deprecated, and will error in future. Ensure you extract a single element from your array before performing this operation. (Deprecated NumPy 1.25.)\n",
      "  dat = img.series[0].pages[int(marker_i)].asarray()\n",
      "/tmp/ipykernel_618521/89048385.py:14: DeprecationWarning: Conversion of an array with ndim > 0 to a scalar is deprecated, and will error in future. Ensure you extract a single element from your array before performing this operation. (Deprecated NumPy 1.25.)\n",
      "  dat = img.series[0].pages[int(marker_i)].asarray()\n",
      " 67%|██████▋   | 16/24 [00:51<00:25,  3.13s/it]/tmp/ipykernel_618521/89048385.py:14: DeprecationWarning: Conversion of an array with ndim > 0 to a scalar is deprecated, and will error in future. Ensure you extract a single element from your array before performing this operation. (Deprecated NumPy 1.25.)\n",
      "  dat = img.series[0].pages[int(marker_i)].asarray()\n"
     ]
    },
    {
     "name": "stdout",
     "output_type": "stream",
     "text": [
      "MCD3_reg3\n"
     ]
    },
    {
     "name": "stderr",
     "output_type": "stream",
     "text": [
      "/tmp/ipykernel_618521/89048385.py:14: DeprecationWarning: Conversion of an array with ndim > 0 to a scalar is deprecated, and will error in future. Ensure you extract a single element from your array before performing this operation. (Deprecated NumPy 1.25.)\n",
      "  dat = img.series[0].pages[int(marker_i)].asarray()\n",
      "/tmp/ipykernel_618521/89048385.py:14: DeprecationWarning: Conversion of an array with ndim > 0 to a scalar is deprecated, and will error in future. Ensure you extract a single element from your array before performing this operation. (Deprecated NumPy 1.25.)\n",
      "  dat = img.series[0].pages[int(marker_i)].asarray()\n",
      "/tmp/ipykernel_618521/89048385.py:14: DeprecationWarning: Conversion of an array with ndim > 0 to a scalar is deprecated, and will error in future. Ensure you extract a single element from your array before performing this operation. (Deprecated NumPy 1.25.)\n",
      "  dat = img.series[0].pages[int(marker_i)].asarray()\n",
      " 71%|███████   | 17/24 [00:54<00:22,  3.23s/it]/tmp/ipykernel_618521/89048385.py:14: DeprecationWarning: Conversion of an array with ndim > 0 to a scalar is deprecated, and will error in future. Ensure you extract a single element from your array before performing this operation. (Deprecated NumPy 1.25.)\n",
      "  dat = img.series[0].pages[int(marker_i)].asarray()\n"
     ]
    },
    {
     "name": "stdout",
     "output_type": "stream",
     "text": [
      "HVCD1_reg4\n"
     ]
    },
    {
     "name": "stderr",
     "output_type": "stream",
     "text": [
      "/tmp/ipykernel_618521/89048385.py:14: DeprecationWarning: Conversion of an array with ndim > 0 to a scalar is deprecated, and will error in future. Ensure you extract a single element from your array before performing this operation. (Deprecated NumPy 1.25.)\n",
      "  dat = img.series[0].pages[int(marker_i)].asarray()\n",
      "/tmp/ipykernel_618521/89048385.py:14: DeprecationWarning: Conversion of an array with ndim > 0 to a scalar is deprecated, and will error in future. Ensure you extract a single element from your array before performing this operation. (Deprecated NumPy 1.25.)\n",
      "  dat = img.series[0].pages[int(marker_i)].asarray()\n",
      "/tmp/ipykernel_618521/89048385.py:14: DeprecationWarning: Conversion of an array with ndim > 0 to a scalar is deprecated, and will error in future. Ensure you extract a single element from your array before performing this operation. (Deprecated NumPy 1.25.)\n",
      "  dat = img.series[0].pages[int(marker_i)].asarray()\n",
      " 75%|███████▌  | 18/24 [01:00<00:23,  3.89s/it]/tmp/ipykernel_618521/89048385.py:14: DeprecationWarning: Conversion of an array with ndim > 0 to a scalar is deprecated, and will error in future. Ensure you extract a single element from your array before performing this operation. (Deprecated NumPy 1.25.)\n",
      "  dat = img.series[0].pages[int(marker_i)].asarray()\n"
     ]
    },
    {
     "name": "stdout",
     "output_type": "stream",
     "text": [
      "HVCD2_reg5\n"
     ]
    },
    {
     "name": "stderr",
     "output_type": "stream",
     "text": [
      "/tmp/ipykernel_618521/89048385.py:14: DeprecationWarning: Conversion of an array with ndim > 0 to a scalar is deprecated, and will error in future. Ensure you extract a single element from your array before performing this operation. (Deprecated NumPy 1.25.)\n",
      "  dat = img.series[0].pages[int(marker_i)].asarray()\n",
      "/tmp/ipykernel_618521/89048385.py:14: DeprecationWarning: Conversion of an array with ndim > 0 to a scalar is deprecated, and will error in future. Ensure you extract a single element from your array before performing this operation. (Deprecated NumPy 1.25.)\n",
      "  dat = img.series[0].pages[int(marker_i)].asarray()\n",
      "/tmp/ipykernel_618521/89048385.py:14: DeprecationWarning: Conversion of an array with ndim > 0 to a scalar is deprecated, and will error in future. Ensure you extract a single element from your array before performing this operation. (Deprecated NumPy 1.25.)\n",
      "  dat = img.series[0].pages[int(marker_i)].asarray()\n",
      " 79%|███████▉  | 19/24 [01:03<00:18,  3.66s/it]/tmp/ipykernel_618521/89048385.py:14: DeprecationWarning: Conversion of an array with ndim > 0 to a scalar is deprecated, and will error in future. Ensure you extract a single element from your array before performing this operation. (Deprecated NumPy 1.25.)\n",
      "  dat = img.series[0].pages[int(marker_i)].asarray()\n"
     ]
    },
    {
     "name": "stdout",
     "output_type": "stream",
     "text": [
      "MCD1_reg4\n"
     ]
    },
    {
     "name": "stderr",
     "output_type": "stream",
     "text": [
      "/tmp/ipykernel_618521/89048385.py:14: DeprecationWarning: Conversion of an array with ndim > 0 to a scalar is deprecated, and will error in future. Ensure you extract a single element from your array before performing this operation. (Deprecated NumPy 1.25.)\n",
      "  dat = img.series[0].pages[int(marker_i)].asarray()\n",
      "/tmp/ipykernel_618521/89048385.py:14: DeprecationWarning: Conversion of an array with ndim > 0 to a scalar is deprecated, and will error in future. Ensure you extract a single element from your array before performing this operation. (Deprecated NumPy 1.25.)\n",
      "  dat = img.series[0].pages[int(marker_i)].asarray()\n",
      "/tmp/ipykernel_618521/89048385.py:14: DeprecationWarning: Conversion of an array with ndim > 0 to a scalar is deprecated, and will error in future. Ensure you extract a single element from your array before performing this operation. (Deprecated NumPy 1.25.)\n",
      "  dat = img.series[0].pages[int(marker_i)].asarray()\n",
      " 83%|████████▎ | 20/24 [01:07<00:14,  3.65s/it]/tmp/ipykernel_618521/89048385.py:14: DeprecationWarning: Conversion of an array with ndim > 0 to a scalar is deprecated, and will error in future. Ensure you extract a single element from your array before performing this operation. (Deprecated NumPy 1.25.)\n",
      "  dat = img.series[0].pages[int(marker_i)].asarray()\n"
     ]
    },
    {
     "name": "stdout",
     "output_type": "stream",
     "text": [
      "HVCD1_reg2\n"
     ]
    },
    {
     "name": "stderr",
     "output_type": "stream",
     "text": [
      "/tmp/ipykernel_618521/89048385.py:14: DeprecationWarning: Conversion of an array with ndim > 0 to a scalar is deprecated, and will error in future. Ensure you extract a single element from your array before performing this operation. (Deprecated NumPy 1.25.)\n",
      "  dat = img.series[0].pages[int(marker_i)].asarray()\n",
      "/tmp/ipykernel_618521/89048385.py:14: DeprecationWarning: Conversion of an array with ndim > 0 to a scalar is deprecated, and will error in future. Ensure you extract a single element from your array before performing this operation. (Deprecated NumPy 1.25.)\n",
      "  dat = img.series[0].pages[int(marker_i)].asarray()\n",
      "/tmp/ipykernel_618521/89048385.py:14: DeprecationWarning: Conversion of an array with ndim > 0 to a scalar is deprecated, and will error in future. Ensure you extract a single element from your array before performing this operation. (Deprecated NumPy 1.25.)\n",
      "  dat = img.series[0].pages[int(marker_i)].asarray()\n",
      " 88%|████████▊ | 21/24 [01:10<00:10,  3.59s/it]/tmp/ipykernel_618521/89048385.py:14: DeprecationWarning: Conversion of an array with ndim > 0 to a scalar is deprecated, and will error in future. Ensure you extract a single element from your array before performing this operation. (Deprecated NumPy 1.25.)\n",
      "  dat = img.series[0].pages[int(marker_i)].asarray()\n"
     ]
    },
    {
     "name": "stdout",
     "output_type": "stream",
     "text": [
      "MCD1_reg2\n"
     ]
    },
    {
     "name": "stderr",
     "output_type": "stream",
     "text": [
      "/tmp/ipykernel_618521/89048385.py:14: DeprecationWarning: Conversion of an array with ndim > 0 to a scalar is deprecated, and will error in future. Ensure you extract a single element from your array before performing this operation. (Deprecated NumPy 1.25.)\n",
      "  dat = img.series[0].pages[int(marker_i)].asarray()\n",
      "/tmp/ipykernel_618521/89048385.py:14: DeprecationWarning: Conversion of an array with ndim > 0 to a scalar is deprecated, and will error in future. Ensure you extract a single element from your array before performing this operation. (Deprecated NumPy 1.25.)\n",
      "  dat = img.series[0].pages[int(marker_i)].asarray()\n",
      "/tmp/ipykernel_618521/89048385.py:14: DeprecationWarning: Conversion of an array with ndim > 0 to a scalar is deprecated, and will error in future. Ensure you extract a single element from your array before performing this operation. (Deprecated NumPy 1.25.)\n",
      "  dat = img.series[0].pages[int(marker_i)].asarray()\n",
      " 92%|█████████▏| 22/24 [01:14<00:07,  3.53s/it]/tmp/ipykernel_618521/89048385.py:14: DeprecationWarning: Conversion of an array with ndim > 0 to a scalar is deprecated, and will error in future. Ensure you extract a single element from your array before performing this operation. (Deprecated NumPy 1.25.)\n",
      "  dat = img.series[0].pages[int(marker_i)].asarray()\n"
     ]
    },
    {
     "name": "stdout",
     "output_type": "stream",
     "text": [
      "HVCD2_reg4\n"
     ]
    },
    {
     "name": "stderr",
     "output_type": "stream",
     "text": [
      "/tmp/ipykernel_618521/89048385.py:14: DeprecationWarning: Conversion of an array with ndim > 0 to a scalar is deprecated, and will error in future. Ensure you extract a single element from your array before performing this operation. (Deprecated NumPy 1.25.)\n",
      "  dat = img.series[0].pages[int(marker_i)].asarray()\n",
      "/tmp/ipykernel_618521/89048385.py:14: DeprecationWarning: Conversion of an array with ndim > 0 to a scalar is deprecated, and will error in future. Ensure you extract a single element from your array before performing this operation. (Deprecated NumPy 1.25.)\n",
      "  dat = img.series[0].pages[int(marker_i)].asarray()\n",
      "/tmp/ipykernel_618521/89048385.py:14: DeprecationWarning: Conversion of an array with ndim > 0 to a scalar is deprecated, and will error in future. Ensure you extract a single element from your array before performing this operation. (Deprecated NumPy 1.25.)\n",
      "  dat = img.series[0].pages[int(marker_i)].asarray()\n",
      " 96%|█████████▌| 23/24 [01:16<00:03,  3.26s/it]/tmp/ipykernel_618521/89048385.py:14: DeprecationWarning: Conversion of an array with ndim > 0 to a scalar is deprecated, and will error in future. Ensure you extract a single element from your array before performing this operation. (Deprecated NumPy 1.25.)\n",
      "  dat = img.series[0].pages[int(marker_i)].asarray()\n"
     ]
    },
    {
     "name": "stdout",
     "output_type": "stream",
     "text": [
      "R1_reg1\n"
     ]
    },
    {
     "name": "stderr",
     "output_type": "stream",
     "text": [
      "/tmp/ipykernel_618521/89048385.py:14: DeprecationWarning: Conversion of an array with ndim > 0 to a scalar is deprecated, and will error in future. Ensure you extract a single element from your array before performing this operation. (Deprecated NumPy 1.25.)\n",
      "  dat = img.series[0].pages[int(marker_i)].asarray()\n",
      "/tmp/ipykernel_618521/89048385.py:14: DeprecationWarning: Conversion of an array with ndim > 0 to a scalar is deprecated, and will error in future. Ensure you extract a single element from your array before performing this operation. (Deprecated NumPy 1.25.)\n",
      "  dat = img.series[0].pages[int(marker_i)].asarray()\n",
      "100%|██████████| 24/24 [01:18<00:00,  3.28s/it]\n"
     ]
    }
   ],
   "source": [
    "area_res = {i:[] for i in dat_dir if any([d in i for d in ['HVCD','MCD','R']])}\n",
    "for i in tqdm.tqdm(area_res.keys()):\n",
    "    print(i)\n",
    "    reg_dat = adata.obs.loc[adata.obs['region']==i, :].copy()\n",
    "    reg_area = ConvexHull(reg_dat[['Absolute.X', 'Absolute.Y']].to_numpy()).volume\n",
    "    for m in [\"CD21\", \"CD23\", \"CD35\", \"Podoplanin\"]:\n",
    "        img_dat = get_image_data(i, m)\n",
    "        if img_dat is None:\n",
    "            area_res[i].append(0)\n",
    "        else:\n",
    "            global_thresh = threshold_otsu(img_dat)\n",
    "            m_total_area = np.sum(img_dat > global_thresh)/reg_area\n",
    "            area_res[i].append(m_total_area)"
   ]
  },
  {
   "cell_type": "code",
   "execution_count": 9,
   "id": "aaa9b2ef-f402-4f7e-868b-445d093cf869",
   "metadata": {},
   "outputs": [
    {
     "data": {
      "text/html": [
       "<div>\n",
       "<style scoped>\n",
       "    .dataframe tbody tr th:only-of-type {\n",
       "        vertical-align: middle;\n",
       "    }\n",
       "\n",
       "    .dataframe tbody tr th {\n",
       "        vertical-align: top;\n",
       "    }\n",
       "\n",
       "    .dataframe thead th {\n",
       "        text-align: right;\n",
       "    }\n",
       "</style>\n",
       "<table border=\"1\" class=\"dataframe\">\n",
       "  <thead>\n",
       "    <tr style=\"text-align: right;\">\n",
       "      <th></th>\n",
       "      <th>CD21</th>\n",
       "      <th>CD23</th>\n",
       "      <th>CD35</th>\n",
       "      <th>Podoplanin</th>\n",
       "    </tr>\n",
       "  </thead>\n",
       "  <tbody>\n",
       "    <tr>\n",
       "      <th>MCD1_reg1</th>\n",
       "      <td>0.019799</td>\n",
       "      <td>0.617851</td>\n",
       "      <td>0.476679</td>\n",
       "      <td>0.723645</td>\n",
       "    </tr>\n",
       "    <tr>\n",
       "      <th>MCD3_reg2</th>\n",
       "      <td>0.002393</td>\n",
       "      <td>0.156224</td>\n",
       "      <td>0.016583</td>\n",
       "      <td>0.274782</td>\n",
       "    </tr>\n",
       "    <tr>\n",
       "      <th>MCD1_reg3</th>\n",
       "      <td>0.025030</td>\n",
       "      <td>0.304477</td>\n",
       "      <td>0.034963</td>\n",
       "      <td>0.036326</td>\n",
       "    </tr>\n",
       "    <tr>\n",
       "      <th>HVCD2_reg1</th>\n",
       "      <td>0.048285</td>\n",
       "      <td>0.341018</td>\n",
       "      <td>0.013115</td>\n",
       "      <td>0.683838</td>\n",
       "    </tr>\n",
       "    <tr>\n",
       "      <th>R1_reg3</th>\n",
       "      <td>0.053149</td>\n",
       "      <td>0.007478</td>\n",
       "      <td>0.000000</td>\n",
       "      <td>0.013044</td>\n",
       "    </tr>\n",
       "    <tr>\n",
       "      <th>MCD4_reg3</th>\n",
       "      <td>0.009083</td>\n",
       "      <td>0.002007</td>\n",
       "      <td>0.011566</td>\n",
       "      <td>0.004297</td>\n",
       "    </tr>\n",
       "    <tr>\n",
       "      <th>R2_reg1</th>\n",
       "      <td>0.005689</td>\n",
       "      <td>0.331769</td>\n",
       "      <td>0.005499</td>\n",
       "      <td>0.816647</td>\n",
       "    </tr>\n",
       "    <tr>\n",
       "      <th>HVCD1_reg3</th>\n",
       "      <td>0.025578</td>\n",
       "      <td>0.002297</td>\n",
       "      <td>0.015750</td>\n",
       "      <td>0.290739</td>\n",
       "    </tr>\n",
       "    <tr>\n",
       "      <th>HVCD2_reg3</th>\n",
       "      <td>0.032285</td>\n",
       "      <td>0.334103</td>\n",
       "      <td>0.008920</td>\n",
       "      <td>0.239747</td>\n",
       "    </tr>\n",
       "    <tr>\n",
       "      <th>MCD3_reg1</th>\n",
       "      <td>0.007452</td>\n",
       "      <td>0.237308</td>\n",
       "      <td>0.038216</td>\n",
       "      <td>0.678247</td>\n",
       "    </tr>\n",
       "    <tr>\n",
       "      <th>HVCD1_reg1</th>\n",
       "      <td>0.029684</td>\n",
       "      <td>0.158424</td>\n",
       "      <td>0.023494</td>\n",
       "      <td>0.364489</td>\n",
       "    </tr>\n",
       "    <tr>\n",
       "      <th>MCD4_reg1</th>\n",
       "      <td>0.006556</td>\n",
       "      <td>0.392918</td>\n",
       "      <td>0.010060</td>\n",
       "      <td>0.693890</td>\n",
       "    </tr>\n",
       "    <tr>\n",
       "      <th>MCD4_reg2</th>\n",
       "      <td>0.009955</td>\n",
       "      <td>0.317914</td>\n",
       "      <td>0.014532</td>\n",
       "      <td>0.003318</td>\n",
       "    </tr>\n",
       "    <tr>\n",
       "      <th>R1_reg2</th>\n",
       "      <td>0.026749</td>\n",
       "      <td>0.003152</td>\n",
       "      <td>0.000000</td>\n",
       "      <td>0.008990</td>\n",
       "    </tr>\n",
       "    <tr>\n",
       "      <th>MCD4_reg4</th>\n",
       "      <td>0.008274</td>\n",
       "      <td>0.209893</td>\n",
       "      <td>0.012814</td>\n",
       "      <td>0.004088</td>\n",
       "    </tr>\n",
       "    <tr>\n",
       "      <th>HVCD2_reg2</th>\n",
       "      <td>0.023819</td>\n",
       "      <td>0.301919</td>\n",
       "      <td>0.008316</td>\n",
       "      <td>0.002541</td>\n",
       "    </tr>\n",
       "    <tr>\n",
       "      <th>MCD3_reg3</th>\n",
       "      <td>0.002391</td>\n",
       "      <td>0.096877</td>\n",
       "      <td>0.012332</td>\n",
       "      <td>0.327373</td>\n",
       "    </tr>\n",
       "    <tr>\n",
       "      <th>HVCD1_reg4</th>\n",
       "      <td>0.039502</td>\n",
       "      <td>0.041401</td>\n",
       "      <td>0.032834</td>\n",
       "      <td>0.256813</td>\n",
       "    </tr>\n",
       "    <tr>\n",
       "      <th>HVCD2_reg5</th>\n",
       "      <td>0.017605</td>\n",
       "      <td>0.244372</td>\n",
       "      <td>0.005512</td>\n",
       "      <td>0.467902</td>\n",
       "    </tr>\n",
       "    <tr>\n",
       "      <th>MCD1_reg4</th>\n",
       "      <td>0.026025</td>\n",
       "      <td>0.001121</td>\n",
       "      <td>0.025123</td>\n",
       "      <td>0.021596</td>\n",
       "    </tr>\n",
       "    <tr>\n",
       "      <th>HVCD1_reg2</th>\n",
       "      <td>0.038167</td>\n",
       "      <td>0.063705</td>\n",
       "      <td>0.037774</td>\n",
       "      <td>0.281855</td>\n",
       "    </tr>\n",
       "    <tr>\n",
       "      <th>MCD1_reg2</th>\n",
       "      <td>0.023903</td>\n",
       "      <td>0.465787</td>\n",
       "      <td>0.063678</td>\n",
       "      <td>0.073600</td>\n",
       "    </tr>\n",
       "    <tr>\n",
       "      <th>HVCD2_reg4</th>\n",
       "      <td>0.055491</td>\n",
       "      <td>0.292565</td>\n",
       "      <td>0.015600</td>\n",
       "      <td>0.030072</td>\n",
       "    </tr>\n",
       "    <tr>\n",
       "      <th>R1_reg1</th>\n",
       "      <td>0.026058</td>\n",
       "      <td>0.001876</td>\n",
       "      <td>0.000000</td>\n",
       "      <td>0.006965</td>\n",
       "    </tr>\n",
       "  </tbody>\n",
       "</table>\n",
       "</div>"
      ],
      "text/plain": [
       "                CD21      CD23      CD35  Podoplanin\n",
       "MCD1_reg1   0.019799  0.617851  0.476679    0.723645\n",
       "MCD3_reg2   0.002393  0.156224  0.016583    0.274782\n",
       "MCD1_reg3   0.025030  0.304477  0.034963    0.036326\n",
       "HVCD2_reg1  0.048285  0.341018  0.013115    0.683838\n",
       "R1_reg3     0.053149  0.007478  0.000000    0.013044\n",
       "MCD4_reg3   0.009083  0.002007  0.011566    0.004297\n",
       "R2_reg1     0.005689  0.331769  0.005499    0.816647\n",
       "HVCD1_reg3  0.025578  0.002297  0.015750    0.290739\n",
       "HVCD2_reg3  0.032285  0.334103  0.008920    0.239747\n",
       "MCD3_reg1   0.007452  0.237308  0.038216    0.678247\n",
       "HVCD1_reg1  0.029684  0.158424  0.023494    0.364489\n",
       "MCD4_reg1   0.006556  0.392918  0.010060    0.693890\n",
       "MCD4_reg2   0.009955  0.317914  0.014532    0.003318\n",
       "R1_reg2     0.026749  0.003152  0.000000    0.008990\n",
       "MCD4_reg4   0.008274  0.209893  0.012814    0.004088\n",
       "HVCD2_reg2  0.023819  0.301919  0.008316    0.002541\n",
       "MCD3_reg3   0.002391  0.096877  0.012332    0.327373\n",
       "HVCD1_reg4  0.039502  0.041401  0.032834    0.256813\n",
       "HVCD2_reg5  0.017605  0.244372  0.005512    0.467902\n",
       "MCD1_reg4   0.026025  0.001121  0.025123    0.021596\n",
       "HVCD1_reg2  0.038167  0.063705  0.037774    0.281855\n",
       "MCD1_reg2   0.023903  0.465787  0.063678    0.073600\n",
       "HVCD2_reg4  0.055491  0.292565  0.015600    0.030072\n",
       "R1_reg1     0.026058  0.001876  0.000000    0.006965"
      ]
     },
     "execution_count": 9,
     "metadata": {},
     "output_type": "execute_result"
    }
   ],
   "source": [
    "out = pd.DataFrame(area_res).T\n",
    "out.columns = marker_names\n",
    "out"
   ]
  },
  {
   "cell_type": "code",
   "execution_count": 10,
   "id": "9054c7b5-95c6-48d1-8782-cb49f1b18348",
   "metadata": {},
   "outputs": [],
   "source": [
    "out.to_csv(\"marker_areas.csv\")"
   ]
  },
  {
   "cell_type": "code",
   "execution_count": null,
   "id": "33c1c54d-5dd3-4b94-ab02-712255756fb7",
   "metadata": {},
   "outputs": [],
   "source": []
  }
 ],
 "metadata": {
  "kernelspec": {
   "display_name": "imageAnalysis",
   "language": "python",
   "name": "imageanalysis"
  },
  "language_info": {
   "codemirror_mode": {
    "name": "ipython",
    "version": 3
   },
   "file_extension": ".py",
   "mimetype": "text/x-python",
   "name": "python",
   "nbconvert_exporter": "python",
   "pygments_lexer": "ipython3",
   "version": "3.10.13"
  }
 },
 "nbformat": 4,
 "nbformat_minor": 5
}
