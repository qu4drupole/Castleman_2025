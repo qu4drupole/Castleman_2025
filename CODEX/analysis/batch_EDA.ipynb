{
 "cells": [
  {
   "cell_type": "markdown",
   "id": "25928de5-c005-479f-9945-55c0d7664e34",
   "metadata": {},
   "source": [
    "# Batch EDA for CD samples\n",
    "\n",
    "## Goals\n",
    "\n",
    "1. Measure cell-cell distances compared to (R2 or R1?)\n",
    "    - Run separately for each case\n",
    "    - maybe try both R1 and R2 as reference\n",
    "2. Remake the cell type abundance plots. \"neighborhood_analysis\" plots have outdated cell types\n",
    "3. "
   ]
  },
  {
   "cell_type": "code",
   "execution_count": 1,
   "id": "d20f3639-66de-4ce2-8b09-2018f6a20cfe",
   "metadata": {},
   "outputs": [
    {
     "name": "stderr",
     "output_type": "stream",
     "text": [
      "/home/smithd30/miniconda3/envs/scimap/lib/python3.8/site-packages/tqdm/auto.py:21: TqdmWarning:\n",
      "\n",
      "IProgress not found. Please update jupyter and ipywidgets. See https://ipywidgets.readthedocs.io/en/stable/user_install.html\n",
      "\n"
     ]
    }
   ],
   "source": [
    "import os\n",
    "import re\n",
    "import anndata as ad\n",
    "import numpy as np\n",
    "import pandas as pd\n",
    "import scanpy as sc\n",
    "import scipy as sci\n",
    "import seaborn as sns; sns.set(color_codes=True)\n",
    "import matplotlib.pyplot as plt\n",
    "%matplotlib inline \n",
    "import scimap as sm\n",
    "\n",
    "from statsmodels.distributions.empirical_distribution import ECDF\n",
    "from statsmodels.stats.multitest import multipletests\n",
    "from scipy.stats import poisson\n",
    "import math\n",
    "import random\n",
    "import tqdm\n",
    "from joblib import Parallel, delayed\n",
    "from multiprocessing import Pool"
   ]
  },
  {
   "cell_type": "code",
   "execution_count": 2,
   "id": "55660ddd-179a-4b06-8f33-0f066efc120a",
   "metadata": {},
   "outputs": [],
   "source": [
    "adata = ad.read_h5ad('aSMA_CD21_analysis/all_regions_dat.h5ad')\n",
    "adata.obs['case'] = adata.obs['region'].apply(lambda x: x.split(\"_\")[0])\n",
    "adata.obs['disease'] = adata.obs['case'].apply(lambda x: x[:-1])"
   ]
  },
  {
   "cell_type": "code",
   "execution_count": 3,
   "id": "3bfd2478-2131-4a25-b4da-bd9d4af802d0",
   "metadata": {},
   "outputs": [],
   "source": [
    "def single_csr(V, p, r):\n",
    "    density = p/V\n",
    "    probs = 2*(density*math.pi)*(r**2)*math.exp(-density*(r**2))\n",
    "    return probs\n",
    "make_csr = np.vectorize(single_csr)"
   ]
  },
  {
   "cell_type": "code",
   "execution_count": 4,
   "id": "713e76d2-7b30-4925-9d02-22bdae0cbc03",
   "metadata": {},
   "outputs": [],
   "source": [
    "def simulate_positions(ad, c1, c2):\n",
    "    dat = ad[ad.obs['new_pheno'].isin([c1,c2]),:].copy()\n",
    "    ymin = np.floor(dat.obs['Absolute.Y'].min()).astype(int)\n",
    "    ymax = np.floor(dat.obs['Absolute.Y'].max()).astype(int)\n",
    "    xmin = np.floor(dat.obs['Absolute.X'].min()).astype(int)\n",
    "    xmax = np.floor(dat.obs['Absolute.X'].max()).astype(int)\n",
    "    dat.obs['Absolute.Y'] = random.choices(range(ymin, ymax), k=dat.shape[0])\n",
    "    dat.obs['Absolute.X'] = random.choices(range(xmin, xmax), k=dat.shape[0])\n",
    "    return dat"
   ]
  },
  {
   "cell_type": "code",
   "execution_count": 5,
   "id": "09d6aab1-2377-4f18-bff3-b28f75758ac4",
   "metadata": {},
   "outputs": [],
   "source": [
    "def cc_dist(ad, c1, c2):\n",
    "    ref_dat = ad.obs.loc[ad.obs['new_pheno']==c1, ['Absolute.Y', 'Absolute.X']]\n",
    "    q_dat = ad.obs.loc[ad.obs['new_pheno']==c2, ['Absolute.Y', 'Absolute.X']]\n",
    "    ref_tree = sci.spatial.cKDTree(ref_dat)\n",
    "    dist_res = ref_tree.query(q_dat, k=1)\n",
    "    ecdf = ECDF(dist_res[0])\n",
    "    return(ecdf)"
   ]
  },
  {
   "cell_type": "code",
   "execution_count": 6,
   "id": "b1139a7c-bd77-44a8-913c-e8234312cb8e",
   "metadata": {},
   "outputs": [],
   "source": [
    "# making the CSR\n",
    "def simdata(adata, ref_dat, q_dat, ecdf):\n",
    "    y = np.ptp(adata.obs['Absolute.Y'])\n",
    "    x = np.ptp(adata.obs['Absolute.X'])\n",
    "    area = y*x\n",
    "    events = ref_dat.shape[0] + q_dat.shape[0]\n",
    "    dist = np.arange(1,np.floor(ecdf.x.max()), 5)\n",
    "    csr_prob = make_csr(area, events, dist)\n",
    "    csr_prob = csr_prob/csr_prob.sum()\n",
    "    csr_cdf = np.array(list(map(lambda x: csr_prob[0:x].sum(), np.arange(len(dist)))))\n",
    "    return (dist, csr_cdf)"
   ]
  },
  {
   "cell_type": "code",
   "execution_count": 7,
   "id": "3ba8fe03-2b49-4f49-bc3a-6bf579d2c4a0",
   "metadata": {},
   "outputs": [],
   "source": [
    "# cell-cell distances\n",
    "def runCCtest(adata, ref_name, case_name):\n",
    "    if ref_name == case_name:\n",
    "        return None\n",
    "    case_dat = adata[(adata.obs.case == case_name) | (adata.obs.case == ref_name),:].copy()\n",
    "    itxn_dir = os.path.join('outs',case_name[:-1],'cell-cell_itxn_' + ref_name +'ref', case_name)\n",
    "    if not os.path.isdir(itxn_dir):\n",
    "            os.mkdir(itxn_dir)\n",
    "            \n",
    "    cc_itxn_dict = {}\n",
    "    for c in tqdm.tqdm(case_dat.obs['new_pheno'].unique()):\n",
    "        if not os.path.isdir(os.path.join(itxn_dir,c)):\n",
    "            os.mkdir(os.path.join(itxn_dir,c))\n",
    "        for cc in case_dat.obs['new_pheno'].unique():\n",
    "            if c == cc:\n",
    "                continue\n",
    "            if np.sum(case_dat.obs.loc[case_dat.obs.case == ref_name, 'new_pheno']==c) < 100 or np.sum(case_dat.obs.loc[case_dat.obs.case==ref_name, 'new_pheno']==cc) < 100: \n",
    "                continue\n",
    "            # if os.path.isfile(os.path.join(itxn_dir, c, c + '-' + cc + '_itxn.png')): # in case of a failed run\n",
    "            #     continue\n",
    "            c_key = c + ' -- ' + cc\n",
    "            cc_itxn_dict[c_key] = []\n",
    "            dis_dict = {}\n",
    "            dist = None\n",
    "            for cname in case_dat.obs.case.unique():\n",
    "                dat_dict = []\n",
    "                for r in case_dat.obs.loc[case_dat.obs['case']==cname, 'region'].unique():\n",
    "                    adata_sub = case_dat[case_dat.obs.region == r,:].copy()\n",
    "                    ref_dat = adata_sub.obs.loc[adata_sub.obs['new_pheno']==c, ['Absolute.Y', 'Absolute.X']]\n",
    "                    q_dat = adata_sub.obs.loc[adata_sub.obs['new_pheno']==cc, ['Absolute.Y', 'Absolute.X']]\n",
    "                    ref_tree = sci.spatial.cKDTree(ref_dat)\n",
    "                    dist_res = ref_tree.query(q_dat, k=1)\n",
    "                    ecdf = ECDF(dist_res[0])\n",
    "                    if dist is None: # just going to take the first region we get\n",
    "                        dist = np.arange(1,np.floor(ecdf.x.max()), 1) # what should the distance be? dist = np.arange(1,np.floor(ecdf.x.max()), 5) of R?\n",
    "                        dis_dict['dist'] = pd.Series(dist)\n",
    "                    dat_dict.append(pd.Series(ecdf(dist)))\n",
    "                merge_df = pd.concat(dat_dict, axis=1)\n",
    "                # for r, df in dat_dict.items():\n",
    "                #     if merge_df is None:\n",
    "                #         merge_df = dat_dict[r]\n",
    "                #     else:\n",
    "                #         merge_df = merge_df.join(df)\n",
    "                dis_dict[cname] = merge_df.apply(np.mean, axis=1)\n",
    "            dis_merge_df = pd.DataFrame(dis_dict)\n",
    "            cc_itxn_dict[c_key].append(dis_merge_df['dist'][np.argmin(np.absolute(dis_merge_df[ref_name]-0.5))])\n",
    "            cc_itxn_dict[c_key].append(dis_merge_df['dist'][np.argmin(np.absolute(dis_merge_df[case_name]-0.5))])\n",
    "            stat = sci.stats.ks_2samp(dis_merge_df[ref_name], dis_merge_df[case_name])\n",
    "            cc_itxn_dict[c_key].append(stat[1])\n",
    "\n",
    "            rplot, = plt.plot(dis_merge_df['dist'], dis_merge_df[ref_name])\n",
    "            kfdplot, = plt.plot(dis_merge_df['dist'], dis_merge_df[case_name], c='red')\n",
    "            plt.legend([rplot, kfdplot], [ref_name, case_name], loc = 'lower right')\n",
    "            plt.savefig(os.path.join(itxn_dir, c, c + '-' + cc + '_itxn.png'))\n",
    "            plt.close()\n",
    "    cc_df = pd.DataFrame(cc_itxn_dict).T\n",
    "    cc_df.columns = ['avg_'+ref_name+'_distance', 'avg_'+case_name+'_distance', 'p_val']\n",
    "    cc_df['p_val_adj'] = multipletests(cc_df['p_val'], method='bonferroni')[1]\n",
    "    cc_df.to_csv(os.path.join(itxn_dir, \"stats.csv\"))\n",
    "    return None\n"
   ]
  },
  {
   "cell_type": "code",
   "execution_count": null,
   "id": "5a5f8e31-fbef-490b-897f-9831ce95fbad",
   "metadata": {},
   "outputs": [
    {
     "name": "stderr",
     "output_type": "stream",
     "text": [
      "  5%|▌         | 1/19 [00:40<12:13, 40.72s/it]"
     ]
    }
   ],
   "source": [
    "runCCtest(adata, 'R2', 'MCD3')"
   ]
  },
  {
   "cell_type": "code",
   "execution_count": 9,
   "id": "3cedd993-b3c9-4e70-894d-99fdf1fddda8",
   "metadata": {},
   "outputs": [
    {
     "name": "stderr",
     "output_type": "stream",
     "text": [
      "100%|██████████| 19/19 [29:33<00:00, 93.36s/it]]\n",
      "100%|██████████| 19/19 [40:18<00:00, 127.31s/it]\n",
      "/mnt/isilon/cscb/software/anaconda3/envs/scimap/lib/python3.8/site-packages/joblib/externals/loky/process_executor.py:702: UserWarning:\n",
      "\n",
      "A worker stopped while some jobs were given to the executor. This can be caused by a too short worker timeout or by a memory leak.\n",
      "\n",
      " 63%|██████▎   | 12/19 [16:20<09:37, 82.57s/it]]\n",
      " 16%|█▌        | 3/19 [06:54<36:46, 137.92s/it]\n",
      " 42%|████▏     | 8/19 [18:01<24:28, 133.49s/it]\n",
      "100%|██████████| 19/19 [41:36<00:00, 131.41s/it]\n"
     ]
    }
   ],
   "source": [
    "# Running it!\n",
    "ref = 'R1'\n",
    "res = Parallel(4)(delayed(runCCtest)(adata, ref, case_name) for case_name in adata.obs['case'].unique())"
   ]
  },
  {
   "cell_type": "code",
   "execution_count": null,
   "id": "c0144d26-ea94-4968-aa8a-81996dcefdf1",
   "metadata": {},
   "outputs": [],
   "source": []
  }
 ],
 "metadata": {
  "kernelspec": {
   "display_name": "scimap",
   "language": "python",
   "name": "scimap"
  },
  "language_info": {
   "codemirror_mode": {
    "name": "ipython",
    "version": 3
   },
   "file_extension": ".py",
   "mimetype": "text/x-python",
   "name": "python",
   "nbconvert_exporter": "python",
   "pygments_lexer": "ipython3",
   "version": "3.8.18"
  }
 },
 "nbformat": 4,
 "nbformat_minor": 5
}
