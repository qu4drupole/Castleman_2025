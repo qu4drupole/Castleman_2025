{
 "cells": [
  {
   "cell_type": "markdown",
   "id": "ff9a7659-4902-46eb-9c0d-5e1d18bfe412",
   "metadata": {},
   "source": [
    "# Measuring cell-cell interactions\n",
    "\n",
    "Want to use a G-function to estimate distance relationships. Helpful resources:\n",
    "https://docs.scipy.org/doc/scipy/reference/generated/scipy.spatial.cKDTree.html#scipy.spatial.cKDTree\n",
    "https://stackoverflow.com/questions/52366421/how-to-do-n-d-distance-and-nearest-neighbor-calculations-on-numpy-arrays\n",
    "https://stackoverflow.com/questions/15792552/numpy-scipy-equivalent-of-r-ecdfxx-function\n",
    "https://geographicdata.science/book/notebooks/09_spatial_inequality.html\n",
    "https://pysal.org/notebooks/explore/pointpats/distance_statistics.html\n",
    "\n",
    "interactions of interest:\n",
    "    - M2-CD8\n",
    "    - macrophage-CD8\n",
    "   \n",
    "interactions may be particularly important in KFD\n",
    "\n",
    "To make the G-function plot:\n",
    "    1. Cell-cell distances with scipy cKDTree\n",
    "    2. plot with eCDF (from statsmodels); create normal gaussian CDF using data\n",
    "    3. Test other sample distance distributions with Kolmogorov–Smirnov test\n",
    "\n"
   ]
  },
  {
   "cell_type": "code",
   "execution_count": 1,
   "id": "dbc2450a-0500-4afa-a873-cb481dc191b7",
   "metadata": {},
   "outputs": [
    {
     "name": "stderr",
     "output_type": "stream",
     "text": [
      "/mnt/isilon/cscb/software/anaconda3/envs/scimap/lib/python3.8/site-packages/tqdm/auto.py:22: TqdmWarning:\n",
      "\n",
      "IProgress not found. Please update jupyter and ipywidgets. See https://ipywidgets.readthedocs.io/en/stable/user_install.html\n",
      "\n"
     ]
    }
   ],
   "source": [
    "import anndata as ad\n",
    "import numpy as np\n",
    "import pandas as pd\n",
    "import scanpy as sc\n",
    "import scipy as sci\n",
    "import seaborn as sns; sns.set(color_codes=True)\n",
    "import matplotlib.pyplot as plt\n",
    "# Import Scimap\n",
    "import scimap as sm\n",
    "from statsmodels.distributions.empirical_distribution import ECDF\n",
    "from scipy.stats import poisson\n",
    "import math"
   ]
  },
  {
   "cell_type": "code",
   "execution_count": 45,
   "id": "ce06c36e-9cf1-475f-bdd3-d48fc632e137",
   "metadata": {},
   "outputs": [],
   "source": [
    "adata = sc.read_h5ad('/mnt/isilon/cscb/codex/pillaiv/SCTC-VP-15/outs/simple_h5ad/K1_reg1_statistics_growth5_comp.h5ad')\n",
    "pred = pd.read_csv('/mnt/isilon/cscb/codex/pillaiv/SCTC-VP-15/outs/simple_h5ad/K1_reg1_statistics_growth5_comp_pred.csv')\n",
    "adata.obs = pred"
   ]
  },
  {
   "cell_type": "code",
   "execution_count": 2,
   "id": "a91e5bab-218f-4a62-8473-e3abb8dc96b3",
   "metadata": {},
   "outputs": [],
   "source": [
    "adata = sc.read_h5ad('/mnt/isilon/cscb/codex/pillaiv/SCTC-VP-15/outs/neighborhood_analysis/MCD1/dat.h5ad')\n"
   ]
  },
  {
   "cell_type": "code",
   "execution_count": 3,
   "id": "76b545e0-01de-4e0a-a028-1ee44117de62",
   "metadata": {},
   "outputs": [
    {
     "data": {
      "text/html": [
       "<div>\n",
       "<style scoped>\n",
       "    .dataframe tbody tr th:only-of-type {\n",
       "        vertical-align: middle;\n",
       "    }\n",
       "\n",
       "    .dataframe tbody tr th {\n",
       "        vertical-align: top;\n",
       "    }\n",
       "\n",
       "    .dataframe thead th {\n",
       "        text-align: right;\n",
       "    }\n",
       "</style>\n",
       "<table border=\"1\" class=\"dataframe\">\n",
       "  <thead>\n",
       "    <tr style=\"text-align: right;\">\n",
       "      <th></th>\n",
       "      <th>Unnamed: 0</th>\n",
       "      <th>orig.ident</th>\n",
       "      <th>nCount_originalexp</th>\n",
       "      <th>nFeature_originalexp</th>\n",
       "      <th>Reg</th>\n",
       "      <th>Tile.Row</th>\n",
       "      <th>Tile.Col</th>\n",
       "      <th>Tile.Z</th>\n",
       "      <th>In.Tile.Y</th>\n",
       "      <th>In.Tile.X</th>\n",
       "      <th>Absolute.Y</th>\n",
       "      <th>Absolute.X</th>\n",
       "      <th>Cell.Size</th>\n",
       "      <th>n_genes_by_counts</th>\n",
       "      <th>total_counts</th>\n",
       "      <th>nCount_raw</th>\n",
       "      <th>nFeature_raw</th>\n",
       "      <th>cell_type_pred_knn</th>\n",
       "      <th>cell_type_pred_knn_prob</th>\n",
       "    </tr>\n",
       "  </thead>\n",
       "  <tbody>\n",
       "    <tr>\n",
       "      <th>0</th>\n",
       "      <td>1.0</td>\n",
       "      <td>SeuratProject</td>\n",
       "      <td>2.909424</td>\n",
       "      <td>21</td>\n",
       "      <td>0</td>\n",
       "      <td>1</td>\n",
       "      <td>1</td>\n",
       "      <td>0</td>\n",
       "      <td>376.634361</td>\n",
       "      <td>679.563877</td>\n",
       "      <td>376.634361</td>\n",
       "      <td>679.563877</td>\n",
       "      <td>522</td>\n",
       "      <td>44</td>\n",
       "      <td>833.986572</td>\n",
       "      <td>10000.000044</td>\n",
       "      <td>44</td>\n",
       "      <td>Macrophage_MPO+</td>\n",
       "      <td>0.6</td>\n",
       "    </tr>\n",
       "    <tr>\n",
       "      <th>1</th>\n",
       "      <td>2.0</td>\n",
       "      <td>SeuratProject</td>\n",
       "      <td>11.028535</td>\n",
       "      <td>22</td>\n",
       "      <td>0</td>\n",
       "      <td>1</td>\n",
       "      <td>1</td>\n",
       "      <td>0</td>\n",
       "      <td>700.220588</td>\n",
       "      <td>800.654412</td>\n",
       "      <td>700.220588</td>\n",
       "      <td>800.654412</td>\n",
       "      <td>393</td>\n",
       "      <td>44</td>\n",
       "      <td>292.699646</td>\n",
       "      <td>9999.999979</td>\n",
       "      <td>44</td>\n",
       "      <td>B_Cell</td>\n",
       "      <td>1.0</td>\n",
       "    </tr>\n",
       "    <tr>\n",
       "      <th>2</th>\n",
       "      <td>3.0</td>\n",
       "      <td>SeuratProject</td>\n",
       "      <td>5.029058</td>\n",
       "      <td>21</td>\n",
       "      <td>0</td>\n",
       "      <td>1</td>\n",
       "      <td>1</td>\n",
       "      <td>0</td>\n",
       "      <td>555.238754</td>\n",
       "      <td>709.249135</td>\n",
       "      <td>555.238754</td>\n",
       "      <td>709.249135</td>\n",
       "      <td>624</td>\n",
       "      <td>44</td>\n",
       "      <td>480.421478</td>\n",
       "      <td>9999.999809</td>\n",
       "      <td>44</td>\n",
       "      <td>Macrophage</td>\n",
       "      <td>0.6</td>\n",
       "    </tr>\n",
       "    <tr>\n",
       "      <th>3</th>\n",
       "      <td>4.0</td>\n",
       "      <td>SeuratProject</td>\n",
       "      <td>6.842954</td>\n",
       "      <td>22</td>\n",
       "      <td>0</td>\n",
       "      <td>1</td>\n",
       "      <td>1</td>\n",
       "      <td>0</td>\n",
       "      <td>125.716377</td>\n",
       "      <td>673.487649</td>\n",
       "      <td>125.716377</td>\n",
       "      <td>673.487649</td>\n",
       "      <td>1688</td>\n",
       "      <td>44</td>\n",
       "      <td>404.855408</td>\n",
       "      <td>10000.001004</td>\n",
       "      <td>44</td>\n",
       "      <td>FDC</td>\n",
       "      <td>1.0</td>\n",
       "    </tr>\n",
       "    <tr>\n",
       "      <th>4</th>\n",
       "      <td>5.0</td>\n",
       "      <td>SeuratProject</td>\n",
       "      <td>0.584977</td>\n",
       "      <td>18</td>\n",
       "      <td>0</td>\n",
       "      <td>1</td>\n",
       "      <td>1</td>\n",
       "      <td>0</td>\n",
       "      <td>692.337662</td>\n",
       "      <td>675.136364</td>\n",
       "      <td>692.337662</td>\n",
       "      <td>675.136364</td>\n",
       "      <td>429</td>\n",
       "      <td>44</td>\n",
       "      <td>372.163177</td>\n",
       "      <td>9999.999763</td>\n",
       "      <td>44</td>\n",
       "      <td>Macrophage</td>\n",
       "      <td>0.6</td>\n",
       "    </tr>\n",
       "  </tbody>\n",
       "</table>\n",
       "</div>"
      ],
      "text/plain": [
       "   Unnamed: 0     orig.ident  nCount_originalexp  nFeature_originalexp  Reg  \\\n",
       "0         1.0  SeuratProject            2.909424                    21    0   \n",
       "1         2.0  SeuratProject           11.028535                    22    0   \n",
       "2         3.0  SeuratProject            5.029058                    21    0   \n",
       "3         4.0  SeuratProject            6.842954                    22    0   \n",
       "4         5.0  SeuratProject            0.584977                    18    0   \n",
       "\n",
       "   Tile.Row  Tile.Col  Tile.Z   In.Tile.Y   In.Tile.X  Absolute.Y  Absolute.X  \\\n",
       "0         1         1       0  376.634361  679.563877  376.634361  679.563877   \n",
       "1         1         1       0  700.220588  800.654412  700.220588  800.654412   \n",
       "2         1         1       0  555.238754  709.249135  555.238754  709.249135   \n",
       "3         1         1       0  125.716377  673.487649  125.716377  673.487649   \n",
       "4         1         1       0  692.337662  675.136364  692.337662  675.136364   \n",
       "\n",
       "   Cell.Size  n_genes_by_counts  total_counts    nCount_raw  nFeature_raw  \\\n",
       "0        522                 44    833.986572  10000.000044            44   \n",
       "1        393                 44    292.699646   9999.999979            44   \n",
       "2        624                 44    480.421478   9999.999809            44   \n",
       "3       1688                 44    404.855408  10000.001004            44   \n",
       "4        429                 44    372.163177   9999.999763            44   \n",
       "\n",
       "  cell_type_pred_knn  cell_type_pred_knn_prob  \n",
       "0    Macrophage_MPO+                      0.6  \n",
       "1             B_Cell                      1.0  \n",
       "2         Macrophage                      0.6  \n",
       "3                FDC                      1.0  \n",
       "4         Macrophage                      0.6  "
      ]
     },
     "execution_count": 3,
     "metadata": {},
     "output_type": "execute_result"
    }
   ],
   "source": [
    "adata.obs.head()"
   ]
  },
  {
   "cell_type": "code",
   "execution_count": 7,
   "id": "fd6163cf-0974-4da0-94bf-796c51193d68",
   "metadata": {
    "tags": []
   },
   "outputs": [
    {
     "data": {
      "text/plain": [
       "CD4_T_Cell          118265\n",
       "B_Cell               75395\n",
       "Endothelial          38689\n",
       "Macrophage           38640\n",
       "Endothelial_MCD1     36562\n",
       "FDC                  26527\n",
       "CD8_T_Cell           26051\n",
       "pDC                  20609\n",
       "Plasma_Cell          18201\n",
       "unknown              17474\n",
       "Sinus_histiocyte     14370\n",
       "Plasma_prolif        10818\n",
       "cDC1                  7166\n",
       "Macrophage_MPO+       5625\n",
       "Neutrophil            3786\n",
       "B_Cell_germ           3050\n",
       "cDC2                  2401\n",
       "Tfh                   1359\n",
       "activated_T_Cell      1334\n",
       "Lymphatics            1194\n",
       "Treg                   715\n",
       "Cytotoxic_T_Cell       292\n",
       "Macrophage_M2          240\n",
       "Mast_Cell                8\n",
       "Name: cell_type_pred_knn, dtype: int64"
      ]
     },
     "execution_count": 7,
     "metadata": {},
     "output_type": "execute_result"
    }
   ],
   "source": [
    "adata.obs.cell_type_pred_knn.value_counts()"
   ]
  },
  {
   "cell_type": "markdown",
   "id": "59bbdfc9-59a8-4a50-815f-231373f8cafc",
   "metadata": {},
   "source": [
    "## Distance measurement\n",
    "Using CD8 as baseline bc there were less cells\n",
    "\n",
    "For the Complete spatial randomness (CSR), the CDF is calculated as a poisson distribution. mu = # total cells\n",
    "https://en.wikipedia.org/wiki/Complete_spatial_randomness\n"
   ]
  },
  {
   "cell_type": "code",
   "execution_count": 3,
   "id": "cfb359aa-0977-4b07-839e-eeabe894cf79",
   "metadata": {},
   "outputs": [],
   "source": [
    "def single_csr(V, p, r):\n",
    "    density = p/V\n",
    "    probs = 2*(density*math.pi)*(r**2)*math.exp(-density*(r**2))\n",
    "    return probs\n",
    "make_csr = np.vectorize(single_csr)"
   ]
  },
  {
   "cell_type": "code",
   "execution_count": 4,
   "id": "7f025b32-e002-4741-9263-0c43a6b93b26",
   "metadata": {},
   "outputs": [],
   "source": [
    "def cc_dist(ad, c1, c2):\n",
    "    ref_dat = ad.obs.loc[ad.obs['cell_type_pred_knn']==c1, ['Absolute.Y', 'Absolute.X']]\n",
    "    q_dat = ad.obs.loc[ad.obs['cell_type_pred_knn']==c2, ['Absolute.Y', 'Absolute.X']]\n",
    "    ref_tree = sci.spatial.cKDTree(ref_dat)\n",
    "    dist_res = ref_tree.query(q_dat, k=1)\n",
    "    ecdf = ECDF(dist_res[0])\n",
    "    return(ecdf)"
   ]
  },
  {
   "cell_type": "code",
   "execution_count": 12,
   "id": "92975ece-4cc5-4f59-9a73-8fed03fa947d",
   "metadata": {},
   "outputs": [],
   "source": [
    "def simdata(adata, ref_dat, q_dat, ecdf):\n",
    "    y = np.ptp(adata.obs['Absolute.Y'])\n",
    "    x = np.ptp(adata.obs['Absolute.X'])\n",
    "    area = y*x\n",
    "    events = ref_dat.shape[0] + q_dat.shape[0]\n",
    "    dist = np.arange(1,np.floor(ecdf.x.max()), 5)\n",
    "    csr_prob = make_csr(area, events, dist)\n",
    "    csr_prob = csr_prob/csr_prob.sum()\n",
    "    csr_cdf = np.array(list(map(lambda x: csr_prob[0:x].sum(), np.arange(len(dist)))))\n",
    "    return (dist, csr_cdf)"
   ]
  },
  {
   "cell_type": "code",
   "execution_count": 8,
   "id": "8a47670a-2ade-423f-9f89-ecd729c40cbf",
   "metadata": {},
   "outputs": [
    {
     "name": "stdout",
     "output_type": "stream",
     "text": [
      "(38689, 2)\n"
     ]
    }
   ],
   "source": [
    "ref_dat = adata.obs.loc[adata.obs['cell_type_pred_knn']=='Endothelial', ['Absolute.Y', 'Absolute.X']]\n",
    "q_dat = adata.obs.loc[adata.obs['cell_type_pred_knn']=='CD8_T_Cell', ['Absolute.Y', 'Absolute.X']]\n",
    "# ref_dat = adata.obs.loc[adata.obs['cell_type_pred_knn']=='Macrophage_M2', ['Absolute.Y', 'Absolute.X']]\n",
    "# q_dat = adata.obs.loc[adata.obs['cell_type_pred_knn']=='CD8_T_Cell', ['Absolute.Y', 'Absolute.X']]\n",
    "print(ref_dat.shape)"
   ]
  },
  {
   "cell_type": "code",
   "execution_count": 9,
   "id": "d63d7572-2cc8-4197-9760-d9230e00dfee",
   "metadata": {},
   "outputs": [],
   "source": [
    "ref_tree = sci.spatial.cKDTree(ref_dat)"
   ]
  },
  {
   "cell_type": "code",
   "execution_count": 10,
   "id": "f00688a7-0c89-4b3e-ad42-cc43646c1f53",
   "metadata": {
    "tags": []
   },
   "outputs": [
    {
     "data": {
      "text/plain": [
       "tuple"
      ]
     },
     "execution_count": 10,
     "metadata": {},
     "output_type": "execute_result"
    }
   ],
   "source": [
    "# find 1-K nearest neighbors\n",
    "\n",
    "dist_res = ref_tree.query(q_dat, k=1)\n",
    "ecdf = ECDF(dist_res[0])\n",
    "type(dist_res)"
   ]
  },
  {
   "cell_type": "code",
   "execution_count": 16,
   "id": "309dadc3-2990-4d7c-89b0-7b86c71d1131",
   "metadata": {},
   "outputs": [],
   "source": [
    "# # making the CSR\n",
    "# y = np.ptp(adata.obs['Absolute.Y'])\n",
    "# x = np.ptp(adata.obs['Absolute.X'])\n",
    "# area = y*x\n",
    "# events = ref_dat.shape[0] + q_dat.shape[0]\n",
    "# dist = np.arange(1,np.floor(ecdf.x.max()), 5)\n",
    "# csr_prob = make_csr(area, events, dist)\n",
    "# csr_prob = csr_prob/csr_prob.sum()\n",
    "# csr_cdf = np.array(list(map(lambda x: csr_prob[0:x].sum(), np.arange(len(dist)))))\n",
    "csr_dat = simdata(adata, ref_dat, q_dat, ecdf)"
   ]
  },
  {
   "cell_type": "code",
   "execution_count": 36,
   "id": "95d42a2f-efea-4082-a5cc-b72be4e1993a",
   "metadata": {},
   "outputs": [
    {
     "data": {
      "text/plain": [
       "(26051, 2)"
      ]
     },
     "execution_count": 36,
     "metadata": {},
     "output_type": "execute_result"
    }
   ],
   "source": [
    "q_dat.shape"
   ]
  },
  {
   "cell_type": "code",
   "execution_count": 41,
   "id": "a9088a08-3400-49f5-bbc2-57977ea93e31",
   "metadata": {
    "collapsed": true,
    "jupyter": {
     "outputs_hidden": true
    },
    "tags": []
   },
   "outputs": [
    {
     "data": {
      "text/html": [
       "<div>\n",
       "<style scoped>\n",
       "    .dataframe tbody tr th:only-of-type {\n",
       "        vertical-align: middle;\n",
       "    }\n",
       "\n",
       "    .dataframe tbody tr th {\n",
       "        vertical-align: top;\n",
       "    }\n",
       "\n",
       "    .dataframe thead th {\n",
       "        text-align: right;\n",
       "    }\n",
       "</style>\n",
       "<table border=\"1\" class=\"dataframe\">\n",
       "  <thead>\n",
       "    <tr style=\"text-align: right;\">\n",
       "      <th></th>\n",
       "      <th>0</th>\n",
       "      <th>1</th>\n",
       "      <th>0</th>\n",
       "    </tr>\n",
       "  </thead>\n",
       "  <tbody>\n",
       "    <tr>\n",
       "      <th>0</th>\n",
       "      <td>1.0</td>\n",
       "      <td>0.000000</td>\n",
       "      <td>0.000499</td>\n",
       "    </tr>\n",
       "    <tr>\n",
       "      <th>1</th>\n",
       "      <td>6.0</td>\n",
       "      <td>0.000201</td>\n",
       "      <td>0.022801</td>\n",
       "    </tr>\n",
       "    <tr>\n",
       "      <th>2</th>\n",
       "      <td>11.0</td>\n",
       "      <td>0.007271</td>\n",
       "      <td>0.076427</td>\n",
       "    </tr>\n",
       "    <tr>\n",
       "      <th>3</th>\n",
       "      <td>16.0</td>\n",
       "      <td>0.029694</td>\n",
       "      <td>0.176231</td>\n",
       "    </tr>\n",
       "    <tr>\n",
       "      <th>4</th>\n",
       "      <td>21.0</td>\n",
       "      <td>0.072958</td>\n",
       "      <td>0.307397</td>\n",
       "    </tr>\n",
       "    <tr>\n",
       "      <th>5</th>\n",
       "      <td>26.0</td>\n",
       "      <td>0.138645</td>\n",
       "      <td>0.439676</td>\n",
       "    </tr>\n",
       "    <tr>\n",
       "      <th>6</th>\n",
       "      <td>31.0</td>\n",
       "      <td>0.224412</td>\n",
       "      <td>0.558059</td>\n",
       "    </tr>\n",
       "    <tr>\n",
       "      <th>7</th>\n",
       "      <td>36.0</td>\n",
       "      <td>0.324782</td>\n",
       "      <td>0.665157</td>\n",
       "    </tr>\n",
       "    <tr>\n",
       "      <th>8</th>\n",
       "      <td>41.0</td>\n",
       "      <td>0.432471</td>\n",
       "      <td>0.756439</td>\n",
       "    </tr>\n",
       "    <tr>\n",
       "      <th>9</th>\n",
       "      <td>46.0</td>\n",
       "      <td>0.539868</td>\n",
       "      <td>0.826725</td>\n",
       "    </tr>\n",
       "    <tr>\n",
       "      <th>10</th>\n",
       "      <td>51.0</td>\n",
       "      <td>0.640324</td>\n",
       "      <td>0.879275</td>\n",
       "    </tr>\n",
       "    <tr>\n",
       "      <th>11</th>\n",
       "      <td>56.0</td>\n",
       "      <td>0.729003</td>\n",
       "      <td>0.918314</td>\n",
       "    </tr>\n",
       "    <tr>\n",
       "      <th>12</th>\n",
       "      <td>61.0</td>\n",
       "      <td>0.803210</td>\n",
       "      <td>0.947296</td>\n",
       "    </tr>\n",
       "    <tr>\n",
       "      <th>13</th>\n",
       "      <td>66.0</td>\n",
       "      <td>0.862270</td>\n",
       "      <td>0.965875</td>\n",
       "    </tr>\n",
       "    <tr>\n",
       "      <th>14</th>\n",
       "      <td>71.0</td>\n",
       "      <td>0.907090</td>\n",
       "      <td>0.978427</td>\n",
       "    </tr>\n",
       "    <tr>\n",
       "      <th>15</th>\n",
       "      <td>76.0</td>\n",
       "      <td>0.939585</td>\n",
       "      <td>0.986526</td>\n",
       "    </tr>\n",
       "    <tr>\n",
       "      <th>16</th>\n",
       "      <td>81.0</td>\n",
       "      <td>0.962129</td>\n",
       "      <td>0.991555</td>\n",
       "    </tr>\n",
       "    <tr>\n",
       "      <th>17</th>\n",
       "      <td>86.0</td>\n",
       "      <td>0.977113</td>\n",
       "      <td>0.994856</td>\n",
       "    </tr>\n",
       "    <tr>\n",
       "      <th>18</th>\n",
       "      <td>91.0</td>\n",
       "      <td>0.986666</td>\n",
       "      <td>0.997006</td>\n",
       "    </tr>\n",
       "    <tr>\n",
       "      <th>19</th>\n",
       "      <td>96.0</td>\n",
       "      <td>0.992512</td>\n",
       "      <td>0.998119</td>\n",
       "    </tr>\n",
       "    <tr>\n",
       "      <th>20</th>\n",
       "      <td>101.0</td>\n",
       "      <td>0.995948</td>\n",
       "      <td>0.998848</td>\n",
       "    </tr>\n",
       "    <tr>\n",
       "      <th>21</th>\n",
       "      <td>106.0</td>\n",
       "      <td>0.997890</td>\n",
       "      <td>0.999271</td>\n",
       "    </tr>\n",
       "    <tr>\n",
       "      <th>22</th>\n",
       "      <td>111.0</td>\n",
       "      <td>0.998945</td>\n",
       "      <td>0.999693</td>\n",
       "    </tr>\n",
       "    <tr>\n",
       "      <th>23</th>\n",
       "      <td>116.0</td>\n",
       "      <td>0.999497</td>\n",
       "      <td>0.999846</td>\n",
       "    </tr>\n",
       "    <tr>\n",
       "      <th>24</th>\n",
       "      <td>121.0</td>\n",
       "      <td>0.999774</td>\n",
       "      <td>0.999885</td>\n",
       "    </tr>\n",
       "    <tr>\n",
       "      <th>25</th>\n",
       "      <td>126.0</td>\n",
       "      <td>0.999909</td>\n",
       "      <td>0.999923</td>\n",
       "    </tr>\n",
       "    <tr>\n",
       "      <th>26</th>\n",
       "      <td>131.0</td>\n",
       "      <td>0.999972</td>\n",
       "      <td>0.999962</td>\n",
       "    </tr>\n",
       "  </tbody>\n",
       "</table>\n",
       "</div>"
      ],
      "text/plain": [
       "        0         1         0\n",
       "0     1.0  0.000000  0.000499\n",
       "1     6.0  0.000201  0.022801\n",
       "2    11.0  0.007271  0.076427\n",
       "3    16.0  0.029694  0.176231\n",
       "4    21.0  0.072958  0.307397\n",
       "5    26.0  0.138645  0.439676\n",
       "6    31.0  0.224412  0.558059\n",
       "7    36.0  0.324782  0.665157\n",
       "8    41.0  0.432471  0.756439\n",
       "9    46.0  0.539868  0.826725\n",
       "10   51.0  0.640324  0.879275\n",
       "11   56.0  0.729003  0.918314\n",
       "12   61.0  0.803210  0.947296\n",
       "13   66.0  0.862270  0.965875\n",
       "14   71.0  0.907090  0.978427\n",
       "15   76.0  0.939585  0.986526\n",
       "16   81.0  0.962129  0.991555\n",
       "17   86.0  0.977113  0.994856\n",
       "18   91.0  0.986666  0.997006\n",
       "19   96.0  0.992512  0.998119\n",
       "20  101.0  0.995948  0.998848\n",
       "21  106.0  0.997890  0.999271\n",
       "22  111.0  0.998945  0.999693\n",
       "23  116.0  0.999497  0.999846\n",
       "24  121.0  0.999774  0.999885\n",
       "25  126.0  0.999909  0.999923\n",
       "26  131.0  0.999972  0.999962"
      ]
     },
     "execution_count": 41,
     "metadata": {},
     "output_type": "execute_result"
    }
   ],
   "source": [
    "df = pd.DataFrame(csr_dat).T\n",
    "pd.concat([df, pd.Series(ecdf(csr_dat[0]))], axis=1)"
   ]
  },
  {
   "cell_type": "code",
   "execution_count": 40,
   "id": "8aa7650f-f136-4cbf-80ac-bdd38700d281",
   "metadata": {},
   "outputs": [
    {
     "data": {
      "text/plain": [
       "array([4.99021151e-04, 2.28014280e-02, 7.64270086e-02, 1.76231239e-01,\n",
       "       3.07397029e-01, 4.39676020e-01, 5.58059192e-01, 6.65156808e-01,\n",
       "       7.56439292e-01, 8.26724502e-01, 8.79275268e-01, 9.18314076e-01,\n",
       "       9.47295689e-01, 9.65874631e-01, 9.78426932e-01, 9.86526429e-01,\n",
       "       9.91555027e-01, 9.94856244e-01, 9.97005873e-01, 9.98119074e-01,\n",
       "       9.98848413e-01, 9.99270661e-01, 9.99692910e-01, 9.99846455e-01,\n",
       "       9.99884841e-01, 9.99923228e-01, 9.99961614e-01])"
      ]
     },
     "execution_count": 40,
     "metadata": {},
     "output_type": "execute_result"
    }
   ],
   "source": [
    "ecdf(csr_dat[0])"
   ]
  },
  {
   "cell_type": "code",
   "execution_count": 38,
   "id": "304c536c-d6b3-4810-bc26-85bc636a5b06",
   "metadata": {},
   "outputs": [
    {
     "data": {
      "image/png": "[encoded data removed]",
      "text/plain": [
       "<Figure size 432x288 with 1 Axes>"
      ]
     },
     "metadata": {
      "needs_background": "light"
     },
     "output_type": "display_data"
    }
   ],
   "source": [
    "plt.plot(csr_dat[0], csr_dat[1])\n",
    "plt.plot(ecdf.x, ecdf.y, c='red')\n",
    "plt.show()"
   ]
  },
  {
   "cell_type": "code",
   "execution_count": 13,
   "id": "e52a35e6-62aa-470b-a19a-252d30c96a33",
   "metadata": {},
   "outputs": [
    {
     "data": {
      "text/plain": [
       "Index(['Unnamed: 0', 'orig.ident', 'nCount_originalexp',\n",
       "       'nFeature_originalexp', 'Reg', 'Tile.Row', 'Tile.Col', 'Tile.Z',\n",
       "       'In.Tile.Y', 'In.Tile.X', 'Absolute.Y', 'Absolute.X', 'Cell.Size',\n",
       "       'n_genes_by_counts', 'total_counts', 'nCount_raw', 'nFeature_raw',\n",
       "       'cell_type_pred_knn', 'cell_type_pred_knn_prob', 'motif', 'index_info',\n",
       "       'region'],\n",
       "      dtype='object')"
      ]
     },
     "execution_count": 13,
     "metadata": {},
     "output_type": "execute_result"
    }
   ],
   "source": [
    "adata.obs.columns"
   ]
  },
  {
   "cell_type": "code",
   "execution_count": 47,
   "id": "5b0dcd7a-dab6-44d8-82ff-b5b8035a7c89",
   "metadata": {},
   "outputs": [
    {
     "data": {
      "text/plain": [
       "(48, 3)"
      ]
     },
     "execution_count": 47,
     "metadata": {},
     "output_type": "execute_result"
    }
   ],
   "source": [
    "df.shape"
   ]
  },
  {
   "cell_type": "code",
   "execution_count": 48,
   "id": "437001e0-5bd4-491b-b812-cc39f6c82c10",
   "metadata": {},
   "outputs": [],
   "source": [
    "dat_dict = {}\n",
    "for r in adata.obs.region.unique():\n",
    "    adata_sub = adata.obs.loc[adata.obs.region == r,:].copy()\n",
    "    ref_dat = adata_sub.loc[adata_sub['cell_type_pred_knn']=='Endothelial', ['Absolute.Y', 'Absolute.X']]\n",
    "    q_dat = adata_sub.loc[adata_sub['cell_type_pred_knn']=='CD8_T_Cell', ['Absolute.Y', 'Absolute.X']]\n",
    "    ref_tree = sci.spatial.cKDTree(ref_dat)\n",
    "    dist_res = ref_tree.query(q_dat, k=1)\n",
    "    ecdf = ECDF(dist_res[0])\n",
    "    csr_dat = pd.DataFrame(simdata(adata, ref_dat, q_dat, ecdf)).T\n",
    "    df = pd.concat([csr_dat, pd.Series(ecdf(csr_dat[0]))], axis=1)\n",
    "    df.columns = ['dist', 'csr', 'ecdf']\n",
    "    dat_dict[r] = df"
   ]
  },
  {
   "cell_type": "code",
   "execution_count": 51,
   "id": "fe55a2ee-374f-444a-9229-5aa89d2f8bfe",
   "metadata": {},
   "outputs": [
    {
     "data": {
      "text/html": [
       "<div>\n",
       "<style scoped>\n",
       "    .dataframe tbody tr th:only-of-type {\n",
       "        vertical-align: middle;\n",
       "    }\n",
       "\n",
       "    .dataframe tbody tr th {\n",
       "        vertical-align: top;\n",
       "    }\n",
       "\n",
       "    .dataframe thead th {\n",
       "        text-align: right;\n",
       "    }\n",
       "</style>\n",
       "<table border=\"1\" class=\"dataframe\">\n",
       "  <thead>\n",
       "    <tr style=\"text-align: right;\">\n",
       "      <th></th>\n",
       "      <th>dist</th>\n",
       "      <th>csr</th>\n",
       "      <th>ecdf</th>\n",
       "      <th>dist1</th>\n",
       "      <th>csr1</th>\n",
       "      <th>ecdf1</th>\n",
       "    </tr>\n",
       "  </thead>\n",
       "  <tbody>\n",
       "    <tr>\n",
       "      <th>0</th>\n",
       "      <td>1.0</td>\n",
       "      <td>0.000000</td>\n",
       "      <td>0.000000</td>\n",
       "      <td>1.0</td>\n",
       "      <td>0.000000</td>\n",
       "      <td>0.000000</td>\n",
       "    </tr>\n",
       "    <tr>\n",
       "      <th>1</th>\n",
       "      <td>6.0</td>\n",
       "      <td>0.000065</td>\n",
       "      <td>0.000000</td>\n",
       "      <td>6.0</td>\n",
       "      <td>0.000077</td>\n",
       "      <td>0.000000</td>\n",
       "    </tr>\n",
       "    <tr>\n",
       "      <th>2</th>\n",
       "      <td>11.0</td>\n",
       "      <td>0.002387</td>\n",
       "      <td>0.003768</td>\n",
       "      <td>11.0</td>\n",
       "      <td>0.002822</td>\n",
       "      <td>0.002617</td>\n",
       "    </tr>\n",
       "    <tr>\n",
       "      <th>3</th>\n",
       "      <td>16.0</td>\n",
       "      <td>0.009980</td>\n",
       "      <td>0.043689</td>\n",
       "      <td>16.0</td>\n",
       "      <td>0.011770</td>\n",
       "      <td>0.038849</td>\n",
       "    </tr>\n",
       "    <tr>\n",
       "      <th>4</th>\n",
       "      <td>21.0</td>\n",
       "      <td>0.025360</td>\n",
       "      <td>0.123352</td>\n",
       "      <td>21.0</td>\n",
       "      <td>0.029801</td>\n",
       "      <td>0.114198</td>\n",
       "    </tr>\n",
       "  </tbody>\n",
       "</table>\n",
       "</div>"
      ],
      "text/plain": [
       "   dist       csr      ecdf  dist1      csr1     ecdf1\n",
       "0   1.0  0.000000  0.000000    1.0  0.000000  0.000000\n",
       "1   6.0  0.000065  0.000000    6.0  0.000077  0.000000\n",
       "2  11.0  0.002387  0.003768   11.0  0.002822  0.002617\n",
       "3  16.0  0.009980  0.043689   16.0  0.011770  0.038849\n",
       "4  21.0  0.025360  0.123352   21.0  0.029801  0.114198"
      ]
     },
     "execution_count": 51,
     "metadata": {},
     "output_type": "execute_result"
    }
   ],
   "source": [
    "for r, df in dat_dict.items():\n",
    "    if r == '0':\n",
    "        merge_df = df\n",
    "    else:\n",
    "        merge_df = merge_df.join(df, rsuffix=r)\n",
    "merge_df.head()"
   ]
  },
  {
   "cell_type": "code",
   "execution_count": 55,
   "id": "b0eda8ba-4aaf-4889-a68e-3b6f735ef591",
   "metadata": {},
   "outputs": [],
   "source": [
    "merge_df['ecdf_avg'] = merge_df.filter(regex='ecdf').apply(np.mean, axis=1)\n",
    "merge_df['csr_avg'] = merge_df.filter(regex='csr').apply(np.mean, axis=1)"
   ]
  },
  {
   "cell_type": "code",
   "execution_count": 56,
   "id": "ad040df2-5dfb-4994-a372-3db1fe5a6e72",
   "metadata": {},
   "outputs": [
    {
     "data": {
      "image/png": "[encoded data removed]",
      "text/plain": [
       "<Figure size 432x288 with 1 Axes>"
      ]
     },
     "metadata": {
      "needs_background": "light"
     },
     "output_type": "display_data"
    }
   ],
   "source": [
    "plt.plot(merge_df['dist'], merge_df['csr_avg'])\n",
    "plt.plot(merge_df['dist'], merge_df['ecdf_avg'], c='red')\n",
    "plt.show()"
   ]
  },
  {
   "cell_type": "code",
   "execution_count": null,
   "id": "8d1f01ac-e3da-4efa-9b55-2713267d57a5",
   "metadata": {},
   "outputs": [],
   "source": []
  }
 ],
 "metadata": {
  "kernelspec": {
   "display_name": "scimap",
   "language": "python",
   "name": "scimap"
  },
  "language_info": {
   "codemirror_mode": {
    "name": "ipython",
    "version": 3
   },
   "file_extension": ".py",
   "mimetype": "text/x-python",
   "name": "python",
   "nbconvert_exporter": "python",
   "pygments_lexer": "ipython3",
   "version": "3.8.18"
  }
 },
 "nbformat": 4,
 "nbformat_minor": 5
}
