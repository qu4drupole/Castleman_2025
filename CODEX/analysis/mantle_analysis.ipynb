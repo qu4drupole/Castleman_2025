{
 "cells": [
  {
   "cell_type": "markdown",
   "id": "2b0d543c-f214-46b8-afae-20122194d1ba",
   "metadata": {},
   "source": [
    "# Analyzing the composition of the mantle zone\n",
    "\n",
    "The germinal centers were easily identified in neighborhood analysis, but, their mantle zones seemed distinct among disease tpyes\n",
    "\n",
    "approach:\n",
    "1. cluster germinal center cells based on their known labels\n",
    "    - use convex hull approach\n",
    "2. expand the encompassing polygon by an arbitrary distance\n",
    "3. make a new donut shape\n",
    "4. count relative cell abundance within the \"donut\"/mantle\n",
    "\n",
    "ALSO TRY CONTOUR APPROACH\n",
    "\n",
    "--CD--\n",
    "Motif 2 is follicle, in MCD, Motif 4 is also follicle\n"
   ]
  },
  {
   "cell_type": "code",
   "execution_count": 1,
   "id": "1da8f212-8224-4834-a47f-1d26821dde8e",
   "metadata": {},
   "outputs": [
    {
     "name": "stderr",
     "output_type": "stream",
     "text": [
      "ERROR 1: PROJ: proj_create_from_database: Open of /home/smithd30/miniconda3/envs/imageAnalysis/share/proj failed\n"
     ]
    }
   ],
   "source": [
    "import tifffile as tff\n",
    "import re\n",
    "# from cv2 import imwrite\n",
    "import pandas as pd\n",
    "import numpy as np\n",
    "import pickle as pk\n",
    "import matplotlib.pyplot as plt\n",
    "import matplotlib as mplb\n",
    "import matplotlib.cm as cm\n",
    "from tqdm import tqdm\n",
    "from imantics import Polygons, Mask\n",
    "import geojson as gjson\n",
    "import argparse\n",
    "from scipy import signal, ndimage\n",
    "import scipy as sci\n",
    "import random\n",
    "import os\n",
    "import anndata as ad\n",
    "from PIL import Image\n",
    "\n",
    "from scipy.spatial import ConvexHull, convex_hull_plot_2d\n",
    "from skimage.draw import polygon2mask\n",
    "import shapely as shp\n",
    "import geopandas as gpd\n",
    "\n",
    "import seaborn as sns\n",
    "import matplotlib as mpl"
   ]
  },
  {
   "cell_type": "code",
   "execution_count": 2,
   "id": "6b402aca-bcdd-429f-891c-177352206feb",
   "metadata": {},
   "outputs": [
    {
     "data": {
      "text/plain": [
       "AnnData object with n_obs × n_vars = 3895114 × 38\n",
       "    obs: 'Unnamed: 0', 'orig.ident', 'nCount_originalexp', 'nFeature_originalexp', 'Reg', 'Tile.Row', 'Tile.Col', 'Tile.Z', 'In.Tile.Y', 'In.Tile.X', 'Absolute.Y', 'Absolute.X', 'Cell.Size', 'n_genes_by_counts', 'total_counts', 'nCount_raw', 'nFeature_raw', 'cell_type_pred_knn', 'cell_type_pred_knn_prob', 'motif', 'index_info', 'new_pheno', 'region'\n",
       "    uns: 'lda_10', 'lda_10_probability', 'lda_12', 'lda_12_probability', 'lda_15', 'lda_15_probability', 'lda_8', 'lda_8_probability', 'spatial_lda', 'spatial_lda_probability'"
      ]
     },
     "execution_count": 2,
     "metadata": {},
     "output_type": "execute_result"
    }
   ],
   "source": [
    "codex = ad.read_h5ad(\"/mnt/isilon/cscb/Projects/codex/pillaiv/SCTC-VP-15/code/CD_analysis/aSMA_CD21_analysis/all_regions_dat.h5ad\")\n",
    "codex"
   ]
  },
  {
   "cell_type": "code",
   "execution_count": 3,
   "id": "a21167bc-63e7-4fcd-8e9c-502ab3c75fc5",
   "metadata": {},
   "outputs": [
    {
     "data": {
      "text/plain": [
       "['Motif_3', 'Motif_8', 'Motif_9', 'Motif_7', 'Motif_1', ..., 'Motif_6', 'Motif_5', 'Motif_2', 'Motif_4', 'Motif_11']\n",
       "Length: 12\n",
       "Categories (12, object): ['Motif_0', 'Motif_1', 'Motif_2', 'Motif_3', ..., 'Motif_8', 'Motif_9', 'Motif_10', 'Motif_11']"
      ]
     },
     "execution_count": 3,
     "metadata": {},
     "output_type": "execute_result"
    }
   ],
   "source": [
    "codex.obs.motif.unique()"
   ]
  },
  {
   "cell_type": "markdown",
   "id": "82a3838a-4683-46ba-8c5d-c6a7cf863f5d",
   "metadata": {
    "jp-MarkdownHeadingCollapsed": true
   },
   "source": [
    "# Running all data"
   ]
  },
  {
   "cell_type": "code",
   "execution_count": 137,
   "id": "a5de3644-83d4-4395-95fe-93d8a2d9296e",
   "metadata": {},
   "outputs": [
    {
     "name": "stderr",
     "output_type": "stream",
     "text": [
      "  0%|          | 0/24 [00:00<?, ?it/s]"
     ]
    },
    {
     "name": "stdout",
     "output_type": "stream",
     "text": [
      "MCD1_reg1\n"
     ]
    },
    {
     "name": "stderr",
     "output_type": "stream",
     "text": [
      "  4%|▍         | 1/24 [01:12<27:47, 72.51s/it]"
     ]
    },
    {
     "name": "stdout",
     "output_type": "stream",
     "text": [
      "MCD3_reg2\n"
     ]
    },
    {
     "name": "stderr",
     "output_type": "stream",
     "text": [
      "  8%|▊         | 2/24 [01:37<16:15, 44.36s/it]"
     ]
    },
    {
     "name": "stdout",
     "output_type": "stream",
     "text": [
      "MCD1_reg3\n"
     ]
    },
    {
     "name": "stderr",
     "output_type": "stream",
     "text": [
      " 12%|█▎        | 3/24 [10:27<1:33:07, 266.06s/it]"
     ]
    },
    {
     "name": "stdout",
     "output_type": "stream",
     "text": [
      "HVCD2_reg1\n"
     ]
    },
    {
     "name": "stderr",
     "output_type": "stream",
     "text": [
      " 17%|█▋        | 4/24 [11:21<1:00:47, 182.39s/it]"
     ]
    },
    {
     "name": "stdout",
     "output_type": "stream",
     "text": [
      "R1_reg3\n"
     ]
    },
    {
     "name": "stderr",
     "output_type": "stream",
     "text": [
      " 21%|██        | 5/24 [18:07<1:23:22, 263.28s/it]"
     ]
    },
    {
     "name": "stdout",
     "output_type": "stream",
     "text": [
      "MCD4_reg3\n"
     ]
    },
    {
     "name": "stderr",
     "output_type": "stream",
     "text": [
      " 25%|██▌       | 6/24 [20:50<1:08:44, 229.14s/it]"
     ]
    },
    {
     "name": "stdout",
     "output_type": "stream",
     "text": [
      "R2_reg1\n"
     ]
    },
    {
     "name": "stderr",
     "output_type": "stream",
     "text": [
      " 29%|██▉       | 7/24 [22:55<55:13, 194.94s/it]  "
     ]
    },
    {
     "name": "stdout",
     "output_type": "stream",
     "text": [
      "HVCD1_reg3\n"
     ]
    },
    {
     "name": "stderr",
     "output_type": "stream",
     "text": [
      " 33%|███▎      | 8/24 [29:27<1:08:41, 257.62s/it]"
     ]
    },
    {
     "name": "stdout",
     "output_type": "stream",
     "text": [
      "HVCD2_reg3\n"
     ]
    },
    {
     "name": "stderr",
     "output_type": "stream",
     "text": [
      " 38%|███▊      | 9/24 [31:46<55:10, 220.71s/it]  "
     ]
    },
    {
     "name": "stdout",
     "output_type": "stream",
     "text": [
      "MCD3_reg1\n"
     ]
    },
    {
     "name": "stderr",
     "output_type": "stream",
     "text": [
      " 42%|████▏     | 10/24 [31:47<35:37, 152.69s/it]"
     ]
    },
    {
     "name": "stdout",
     "output_type": "stream",
     "text": [
      "HVCD1_reg1\n"
     ]
    },
    {
     "name": "stderr",
     "output_type": "stream",
     "text": [
      " 46%|████▌     | 11/24 [38:30<49:43, 229.50s/it]"
     ]
    },
    {
     "name": "stdout",
     "output_type": "stream",
     "text": [
      "MCD4_reg1\n"
     ]
    },
    {
     "name": "stderr",
     "output_type": "stream",
     "text": [
      " 50%|█████     | 12/24 [38:42<32:39, 163.27s/it]"
     ]
    },
    {
     "name": "stdout",
     "output_type": "stream",
     "text": [
      "MCD4_reg2\n"
     ]
    },
    {
     "name": "stderr",
     "output_type": "stream",
     "text": [
      " 54%|█████▍    | 13/24 [41:39<30:42, 167.51s/it]"
     ]
    },
    {
     "name": "stdout",
     "output_type": "stream",
     "text": [
      "R1_reg2\n"
     ]
    },
    {
     "name": "stderr",
     "output_type": "stream",
     "text": [
      " 58%|█████▊    | 14/24 [43:22<24:38, 147.85s/it]"
     ]
    },
    {
     "name": "stdout",
     "output_type": "stream",
     "text": [
      "MCD4_reg4\n"
     ]
    },
    {
     "name": "stderr",
     "output_type": "stream",
     "text": [
      " 62%|██████▎   | 15/24 [45:22<20:56, 139.60s/it]"
     ]
    },
    {
     "name": "stdout",
     "output_type": "stream",
     "text": [
      "HVCD2_reg2\n"
     ]
    },
    {
     "name": "stderr",
     "output_type": "stream",
     "text": [
      " 67%|██████▋   | 16/24 [48:43<21:04, 158.07s/it]"
     ]
    },
    {
     "name": "stdout",
     "output_type": "stream",
     "text": [
      "MCD3_reg3\n"
     ]
    },
    {
     "name": "stderr",
     "output_type": "stream",
     "text": [
      " 71%|███████   | 17/24 [48:44<12:55, 110.83s/it]"
     ]
    },
    {
     "name": "stdout",
     "output_type": "stream",
     "text": [
      "HVCD1_reg4\n"
     ]
    },
    {
     "name": "stderr",
     "output_type": "stream",
     "text": [
      " 75%|███████▌  | 18/24 [54:53<18:50, 188.44s/it]"
     ]
    },
    {
     "name": "stdout",
     "output_type": "stream",
     "text": [
      "HVCD2_reg5\n"
     ]
    },
    {
     "name": "stderr",
     "output_type": "stream",
     "text": [
      " 79%|███████▉  | 19/24 [57:57<15:35, 187.02s/it]"
     ]
    },
    {
     "name": "stdout",
     "output_type": "stream",
     "text": [
      "MCD1_reg4\n"
     ]
    },
    {
     "name": "stderr",
     "output_type": "stream",
     "text": [
      " 83%|████████▎ | 20/24 [1:07:39<20:22, 305.50s/it]"
     ]
    },
    {
     "name": "stdout",
     "output_type": "stream",
     "text": [
      "HVCD1_reg2\n"
     ]
    },
    {
     "name": "stderr",
     "output_type": "stream",
     "text": [
      " 88%|████████▊ | 21/24 [1:13:56<16:21, 327.15s/it]"
     ]
    },
    {
     "name": "stdout",
     "output_type": "stream",
     "text": [
      "MCD1_reg2\n"
     ]
    },
    {
     "name": "stderr",
     "output_type": "stream",
     "text": [
      " 92%|█████████▏| 22/24 [1:21:26<12:07, 363.87s/it]"
     ]
    },
    {
     "name": "stdout",
     "output_type": "stream",
     "text": [
      "HVCD2_reg4\n"
     ]
    },
    {
     "name": "stderr",
     "output_type": "stream",
     "text": [
      " 96%|█████████▌| 23/24 [1:25:53<05:34, 334.90s/it]"
     ]
    },
    {
     "name": "stdout",
     "output_type": "stream",
     "text": [
      "R1_reg1\n"
     ]
    },
    {
     "name": "stderr",
     "output_type": "stream",
     "text": [
      "100%|██████████| 24/24 [1:31:55<00:00, 229.81s/it]\n"
     ]
    }
   ],
   "source": [
    "codex.obs['follicle'] = 0\n",
    "codex.obs['follicle_level'] = -1\n",
    "codex.obs['follicle_area'] = 0\n",
    "for full_r in tqdm(codex.obs.region.unique()):\n",
    "    print(full_r)\n",
    "    adata = codex[codex.obs.region == full_r,:]\n",
    "    all_coords = adata.obs[['Absolute.Y', 'Absolute.X']].to_numpy()\n",
    "    all_coords = gpd.points_from_xy(x=all_coords[:,1], y=all_coords[:,0])\n",
    "    r_ = full_r.split(\"_\")\n",
    "    sname = r_[0]\n",
    "    regname = r_[1]\n",
    "\n",
    "    # getting the data\n",
    "    coords = adata.obs[['Absolute.Y', 'Absolute.X']].to_numpy() # should it be X,Y or Y,X ????\n",
    "    coords = coords[adata.obs.motif.isin(['Motif_2', 'Motif_4']),:]\n",
    "\n",
    "    # getting the follicles\n",
    "    clustered = []\n",
    "    follicle_sets = []\n",
    "    for i in range(coords.shape[0]):\n",
    "        if i not in clustered:\n",
    "            i_dist = np.linalg.norm(coords[i]-coords, axis=1)\n",
    "            i_neighbor = np.where(i_dist < 30)[0].tolist()\n",
    "            # should we check whether any of the neighbors are in the clustered list?\n",
    "            # i_neighbor = i_neighbor[~list(map(lambda i_: i_ in clustered, i_neighbor))]\n",
    "            clustered.extend(i_neighbor)\n",
    "            \n",
    "            new_cl_token = 1\n",
    "            fs_hits = [fi for fi in range(len(follicle_sets)) if len(set(follicle_sets[fi]).intersection(i_neighbor)) > 0]\n",
    "            if len(fs_hits) > 0:\n",
    "                cell_set = []\n",
    "                for fi in sorted(fs_hits, reverse=True):\n",
    "                    cell_set.extend(follicle_sets[fi])\n",
    "                    follicle_sets.pop(fi)\n",
    "                cell_set = set(cell_set).union(i_neighbor)\n",
    "                follicle_sets.append(cell_set)\n",
    "            else:\n",
    "                follicle_sets.append(i_neighbor)\n",
    "\n",
    "\n",
    "    # filtering follicles\n",
    "    f_clust = []\n",
    "    keep_i = []\n",
    "    cl_i = 1\n",
    "    for fs in follicle_sets:\n",
    "        if len(fs) > 200:\n",
    "            f_clust.extend(np.repeat(cl_i, len(fs)))\n",
    "            keep_i.extend(fs)\n",
    "            cl_i += 1\n",
    "    follicle_filt = pd.DataFrame({'f_clust':f_clust,\n",
    "                                 'celli':keep_i})\n",
    "\n",
    "    # Getting the follicle data\n",
    "    contour_size = 100\n",
    "    fl_dfs = []\n",
    "    for f in follicle_filt.f_clust.unique():\n",
    "        coords_test = coords[follicle_filt.celli.loc[follicle_filt.f_clust==f].values,:]\n",
    "        foll_hull = ConvexHull(coords_test)\n",
    "        foll_geom = np.flip(foll_hull.points[foll_hull.vertices], 1)\n",
    "        foll_poly = shp.Polygon(foll_geom)\n",
    "        foll_all_poly = foll_poly.buffer(contour_size, single_sided=True)\n",
    "        mantle_c = all_coords.within(foll_all_poly)\n",
    "        mantle_bc = adata.obs_names[mantle_c]\n",
    "        codex.obs.loc[mantle_bc, \"follicle\"] = f\n",
    "        codex.obs.loc[mantle_bc, \"follicle_area\"] = foll_poly.area\n",
    "        for fl in range(10):\n",
    "            foll_lvl_poly = foll_poly.buffer(-contour_size*fl, single_sided=True)\n",
    "            mantle = foll_lvl_poly.buffer(contour_size, single_sided=True)\n",
    "            mantle_c = all_coords.within(mantle - foll_lvl_poly)\n",
    "            mantle_bc = adata.obs_names[mantle_c]\n",
    "            if np.sum(mantle_c) > 0:\n",
    "                codex.obs.loc[mantle_bc, \"follicle_level\"] = 10-fl\n",
    "            else:\n",
    "                germ_coord = all_coords.within(foll_lvl_poly)\n",
    "                germ_coord_bc = adata.obs_names[germ_coord]\n",
    "                codex.obs.loc[germ_coord_bc, \"follicle_level\"] = 10-fl\n",
    "                break\n",
    "        germ_coord = all_coords.within(foll_lvl_poly)\n",
    "        if np.sum(germ_coord) > 0:\n",
    "            germ_coord_bc = adata.obs_names[germ_coord]\n",
    "            codex.obs.loc[germ_coord_bc, \"follicle_level\"] = 0"
   ]
  },
  {
   "cell_type": "code",
   "execution_count": 5,
   "id": "9feffc41-f26a-4bec-be2c-93657efb7825",
   "metadata": {},
   "outputs": [],
   "source": [
    "# with open(\"mantle_df.pk\",\"wb\") as f:\n",
    "#     pk.dump(all_fl_df, f)\n",
    "codex.obs.to_csv(\"allmeta_germ_contour100.csv\")"
   ]
  }
 ],
 "metadata": {
  "kernelspec": {
   "display_name": "imageAnalysis",
   "language": "python",
   "name": "imageanalysis"
  },
  "language_info": {
   "codemirror_mode": {
    "name": "ipython",
    "version": 3
   },
   "file_extension": ".py",
   "mimetype": "text/x-python",
   "name": "python",
   "nbconvert_exporter": "python",
   "pygments_lexer": "ipython3",
   "version": "3.10.13"
  }
 },
 "nbformat": 4,
 "nbformat_minor": 5
}
